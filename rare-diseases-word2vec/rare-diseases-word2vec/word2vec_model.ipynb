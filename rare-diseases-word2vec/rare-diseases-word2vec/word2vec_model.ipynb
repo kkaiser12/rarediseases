{
 "cells": [
  {
   "cell_type": "markdown",
   "metadata": {},
   "source": [
    "# Imports"
   ]
  },
  {
   "cell_type": "code",
   "execution_count": 1,
   "metadata": {},
   "outputs": [],
   "source": [
    "import torch\n",
    "import re\n",
    "import torch.nn as nn\n",
    "import pandas as pd\n",
    "import simple_icd_10 as icd\n",
    "import numpy as np"
   ]
  },
  {
   "cell_type": "markdown",
   "metadata": {},
   "source": [
    "# Feature Engineering"
   ]
  },
  {
   "cell_type": "code",
   "execution_count": 2,
   "metadata": {},
   "outputs": [],
   "source": [
    "df = pd.read_csv(\"dataset.csv\")"
   ]
  },
  {
   "cell_type": "code",
   "execution_count": 3,
   "metadata": {},
   "outputs": [],
   "source": [
    "hpo_vocab_df = pd.Series(', '.join(df['hpo_features'].to_list()), name='hpo_vocab')\n",
    "icd10_vocab_df = pd.Series(', '.join(df['icd10_codes'].to_list()), name='icd10_vocab')"
   ]
  },
  {
   "cell_type": "code",
   "execution_count": 4,
   "metadata": {},
   "outputs": [],
   "source": [
    "hpo_vocab = set(re.split(r'\\s+|;|,', hpo_vocab_df.iloc[0]))\n",
    "icd10_vocab = set(re.split(r'\\s+|;|,', icd10_vocab_df.iloc[0]))"
   ]
  },
  {
   "cell_type": "markdown",
   "metadata": {},
   "source": [
    "# Model Preparation"
   ]
  },
  {
   "cell_type": "code",
   "execution_count": 6,
   "metadata": {},
   "outputs": [],
   "source": [
    "train_df = pd.read_csv(\"train_data.csv\")\n",
    "test_df = pd.read_csv(\"test_data.csv\")\n",
    "val_df = pd.read_csv(\"val_data.csv\")"
   ]
  },
  {
   "cell_type": "code",
   "execution_count": 5,
   "metadata": {},
   "outputs": [],
   "source": [
    "def convert(input, hpo_to_ix):\n",
    "    idxs = []\n",
    "\n",
    "    for w in input:\n",
    "        if w in hpo_to_ix.keys():\n",
    "          idxs.append(hpo_to_ix[w])\n",
    "\n",
    "\n",
    "\n",
    "\n",
    "    return torch.tensor(idxs, dtype=torch.long)\n",
    "\n",
    "\n",
    "def vec_to_word(input, ix_to_word):\n",
    "    words = []\n",
    "\n",
    "    for w in input:\n",
    "        if w in ix_to_word.keys():\n",
    "            words.append(ix_to_word[w])\n",
    "\n",
    "    return words\n"
   ]
  },
  {
   "cell_type": "code",
   "execution_count": 7,
   "metadata": {},
   "outputs": [],
   "source": [
    "EMDEDDING_DIM = 100\n",
    "\n",
    "features,target = train_df['hpo_features'].copy(), train_df['icd10_codes'].copy()\n",
    "val_features,val_target = val_df['hpo_features'].copy(), val_df['icd10_codes'].copy()\n",
    "test_features,test_target = test_df['hpo_features'].copy(), test_df['icd10_codes'].copy()\n",
    "\n",
    "hpo_vocab_size = len(hpo_vocab)\n",
    "icd10_vocab_size = len(icd10_vocab)\n",
    "\n",
    "hpo_to_ix = {word:ix for ix, word in enumerate(hpo_vocab)}\n",
    "ix_to_word = {ix:word for ix, word in enumerate(hpo_vocab)}\n",
    "icd10_to_ix = {word:ix for ix, word in enumerate(icd10_vocab)}\n",
    "ix_to_icd10 = {ix:word for ix, word in enumerate(icd10_vocab)}"
   ]
  },
  {
   "cell_type": "code",
   "execution_count": 11,
   "metadata": {},
   "outputs": [],
   "source": [
    "class CBOW(torch.nn.Module):\n",
    "    def __init__(self, hpo_vocab_size, embedding_dim):\n",
    "        super(CBOW, self).__init__()\n",
    "\n",
    "        #out: 1 x emdedding_dim\n",
    "        self.embeddings = nn.Embedding(hpo_vocab_size, embedding_dim)\n",
    "        self.linear1 = nn.Linear(embedding_dim,128)\n",
    "        self.activation_function1 = nn.ReLU()\n",
    "        \n",
    "        #out: 1 x hpo_vocab_size\n",
    "        self.linear2 = nn.Linear(128, icd10_vocab_size)\n",
    "        self.activation_function2 = nn.LogSoftmax(dim = -1)\n",
    "        \n",
    "\n",
    "    def forward(self, inputs):\n",
    "        embeds = sum(self.embeddings(inputs)).view(1,-1)\n",
    "        out = self.linear1(embeds)\n",
    "        out = self.activation_function1(out)\n",
    "        out = self.linear2(out)\n",
    "        out = self.activation_function2(out)\n",
    "\n",
    "        return out\n"
   ]
  },
  {
   "cell_type": "markdown",
   "metadata": {},
   "source": [
    "### Training"
   ]
  },
  {
   "cell_type": "code",
   "execution_count": 12,
   "metadata": {},
   "outputs": [
    {
     "name": "stdout",
     "output_type": "stream",
     "text": [
      " train accuracy: 0.0\n",
      " val accuracy: 0.0\n",
      " train accuracy: 0.88\n",
      " val accuracy: 0.625\n",
      " train accuracy: 0.88\n",
      " val accuracy: 0.625\n",
      " train accuracy: 0.88\n",
      " val accuracy: 0.625\n",
      " train accuracy: 0.88\n",
      " val accuracy: 0.625\n",
      " train accuracy: 0.88\n",
      " val accuracy: 0.625\n",
      " train accuracy: 0.88\n",
      " val accuracy: 0.625\n",
      " train accuracy: 0.88\n",
      " val accuracy: 0.625\n",
      " train accuracy: 0.88\n",
      " val accuracy: 0.625\n",
      " train accuracy: 0.88\n",
      " val accuracy: 0.625\n"
     ]
    }
   ],
   "source": [
    "\n",
    "model = CBOW(hpo_vocab_size, EMDEDDING_DIM)\n",
    "\n",
    "loss_function = nn.NLLLoss()\n",
    "optimizer = torch.optim.Adam(model.parameters(), lr=0.001)\n",
    "\n",
    "correct_predicted_train = 0\n",
    "\n",
    "#TRAINING\n",
    "for epoch in range(100):\n",
    "    train_loss = 0\n",
    "    val_loss = 0\n",
    "\n",
    "    correct_predicted_train = 0\n",
    "    correct_predicted_val = 0\n",
    "\n",
    "\n",
    "    for x, y in zip(features,target):\n",
    "\n",
    "        input_vector = convert(re.split(r'\\s+|;|,', x), hpo_to_ix) \n",
    "        logs = model(input_vector)\n",
    "        train_loss += loss_function(logs, torch.tensor([icd10_to_ix[y]]))\n",
    "\n",
    "\n",
    "        pred = [torch.argmax(logs).item()]\n",
    "        pred_word = vec_to_word(pred,ix_to_icd10)\n",
    "        correct_predicted_train +=  1 if pred_word[0] == y else 0\n",
    "\n",
    "\n",
    "    with torch.no_grad():\n",
    "        for x, y in zip(val_features, val_target):\n",
    "            input_vector = convert(re.split(r'\\s+|;|,', x), hpo_to_ix) \n",
    "            logs = model(input_vector)\n",
    "            val_loss += loss_function(logs, torch.tensor([icd10_to_ix[y]]))\n",
    "\n",
    "            pred = [torch.argmax(logs).item()]\n",
    "            pred_word = vec_to_word(pred,ix_to_icd10)\n",
    "            correct_predicted_val +=  1 if pred_word[0] == y else 0\n",
    "\n",
    "\n",
    "\n",
    "\n",
    "    #optimize at the end of each epoch\n",
    "    optimizer.zero_grad()\n",
    "    train_loss.backward()\n",
    "    optimizer.step()\n",
    "\n",
    "    if epoch%10 == 0:\n",
    "        print(\" train accuracy: {}\".format(correct_predicted_train/len(target)))\n",
    "        print(\" val accuracy: {}\".format(correct_predicted_val/len(val_df)))\n"
   ]
  },
  {
   "cell_type": "markdown",
   "metadata": {},
   "source": [
    "### Inference"
   ]
  },
  {
   "cell_type": "code",
   "execution_count": 13,
   "metadata": {},
   "outputs": [
    {
     "name": "stdout",
     "output_type": "stream",
     "text": [
      "predicted: Sepsis, unspecified\n",
      "predicted: Pneumonia, unspecified\n",
      "predicted: Acute subendocardial myocardial infarction\n",
      "predicted: Sepsis, unspecified\n",
      "predicted: Sepsis, unspecified\n",
      "predicted: Pneumonia, unspecified\n",
      "predicted: Intracerebral haemorrhage, unspecified\n",
      "predicted: Acute subendocardial myocardial infarction\n",
      "predicted: Sepsis, unspecified\n"
     ]
    }
   ],
   "source": [
    "correct_predicted_test = 0\n",
    "\n",
    "for x, y in zip(test_features, test_target):\n",
    "    input_vector = convert(re.split(r'\\s+|;|,', x), hpo_to_ix) \n",
    "    logs = model(input_vector)\n",
    "    pred = [torch.argmax(logs).item()]\n",
    "    pred_word = vec_to_word(pred,ix_to_icd10)\n",
    "\n",
    "    print(\"predicted: {}\".format(icd.get_description(pred_word[0])))\n",
    "\n",
    "    correct_predicted_test +=  1 if pred_word[0] == y else 0"
   ]
  }
 ],
 "metadata": {
  "interpreter": {
   "hash": "2cc34c88dc7b26fe6eb97f4b77b30bccbb6944d0310d02e223250ed22a0c495a"
  },
  "kernelspec": {
   "display_name": "Python 3.8.3 ('.tumai': venv)",
   "language": "python",
   "name": "python3"
  },
  "language_info": {
   "codemirror_mode": {
    "name": "ipython",
    "version": 3
   },
   "file_extension": ".py",
   "mimetype": "text/x-python",
   "name": "python",
   "nbconvert_exporter": "python",
   "pygments_lexer": "ipython3",
   "version": "3.8.3"
  },
  "orig_nbformat": 4
 },
 "nbformat": 4,
 "nbformat_minor": 2
}

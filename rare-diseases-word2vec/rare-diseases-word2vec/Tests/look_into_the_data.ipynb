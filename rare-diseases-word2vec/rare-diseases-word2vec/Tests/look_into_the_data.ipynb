{
 "cells": [
  {
   "cell_type": "code",
   "execution_count": 1,
   "id": "91bebe08-07d3-468a-a356-406626a31de1",
   "metadata": {},
   "outputs": [
    {
     "name": "stdout",
     "output_type": "stream",
     "text": [
      "Collecting pandas\n",
      "  Downloading pandas-1.4.2-cp38-cp38-win_amd64.whl (10.6 MB)\n",
      "Requirement already satisfied: pytz>=2020.1 in c:\\users\\kristina.kaiser\\anaconda3\\envs\\makeathon\\lib\\site-packages (from pandas) (2021.3)\n",
      "Requirement already satisfied: python-dateutil>=2.8.1 in c:\\users\\kristina.kaiser\\anaconda3\\envs\\makeathon\\lib\\site-packages (from pandas) (2.8.2)\n",
      "Collecting numpy>=1.18.5\n",
      "  Downloading numpy-1.22.3-cp38-cp38-win_amd64.whl (14.7 MB)\n",
      "Requirement already satisfied: six>=1.5 in c:\\users\\kristina.kaiser\\anaconda3\\envs\\makeathon\\lib\\site-packages (from python-dateutil>=2.8.1->pandas) (1.16.0)\n",
      "Installing collected packages: numpy, pandas\n",
      "Successfully installed numpy-1.22.3 pandas-1.4.2\n"
     ]
    }
   ],
   "source": [
    "!pip install pandas"
   ]
  },
  {
   "cell_type": "code",
   "execution_count": null,
   "id": "2d8847ec",
   "metadata": {},
   "outputs": [
    {
     "ename": "",
     "evalue": "",
     "output_type": "error",
     "traceback": [
      "\u001b[1;31mRunning cells with 'Python 3.8.13 ('makeathon')' requires ipykernel package.\n",
      "Run the following command to install 'ipykernel' into the Python environment. \n",
      "Command: 'conda install -n makeathon ipykernel --update-deps --force-reinstall'"
     ]
    }
   ],
   "source": []
  },
  {
   "cell_type": "code",
   "execution_count": 2,
   "id": "ada5a7e7-f5f2-4161-adf3-98d382552365",
   "metadata": {},
   "outputs": [],
   "source": [
    "import pandas as pd"
   ]
  },
  {
   "cell_type": "code",
   "execution_count": 4,
   "id": "db5c67f3-f37f-43a0-b93d-4bb028fafcc2",
   "metadata": {},
   "outputs": [
    {
     "name": "stdout",
     "output_type": "stream",
     "text": [
      "'Getting Started.ipynb'   data\t images   look_into_the_data.ipynb\n"
     ]
    }
   ],
   "source": []
  },
  {
   "cell_type": "markdown",
   "id": "75af184e-d647-49e6-b3b0-894990223d29",
   "metadata": {},
   "source": [
    "# Lab events dataframe"
   ]
  },
  {
   "cell_type": "code",
   "execution_count": 9,
   "id": "42e9d997-ef69-438b-a3cc-ed38f4765025",
   "metadata": {},
   "outputs": [],
   "source": [
    "lab_events_df = pd.read_csv('data/LABEVENTS_HPO.csv')"
   ]
  },
  {
   "cell_type": "code",
   "execution_count": null,
   "id": "e06a8bd9-1395-44fd-ae60-c492d135a6e0",
   "metadata": {},
   "outputs": [],
   "source": []
  },
  {
   "cell_type": "code",
   "execution_count": 10,
   "id": "55c7d543-24a8-4e81-a09c-f149f0cdbc6b",
   "metadata": {},
   "outputs": [],
   "source": [
    "lab_events_df = lab_events_df.dropna(subset=['active_hpo_features'])"
   ]
  },
  {
   "cell_type": "code",
   "execution_count": 11,
   "id": "13e3ccf7-c26c-4514-9418-6c826bcd2d77",
   "metadata": {},
   "outputs": [],
   "source": [
    "lab_events_df = lab_events_df[['subject_id','active_hpo_features']]"
   ]
  },
  {
   "cell_type": "code",
   "execution_count": null,
   "id": "ac615268-479e-44e3-9d4c-08b121c5ae58",
   "metadata": {},
   "outputs": [],
   "source": []
  },
  {
   "cell_type": "code",
   "execution_count": 12,
   "id": "156e43d0-0075-46d9-9e38-1b599993d341",
   "metadata": {},
   "outputs": [],
   "source": [
    "lab_events_df = lab_events_df.groupby(['subject_id'])['active_hpo_features'].apply(' '.join).reset_index()"
   ]
  },
  {
   "cell_type": "code",
   "execution_count": 13,
   "id": "1e7ecc1c-e548-4678-ba5f-6e3f65e720a9",
   "metadata": {},
   "outputs": [
    {
     "data": {
      "text/html": [
       "<div>\n",
       "<style scoped>\n",
       "    .dataframe tbody tr th:only-of-type {\n",
       "        vertical-align: middle;\n",
       "    }\n",
       "\n",
       "    .dataframe tbody tr th {\n",
       "        vertical-align: top;\n",
       "    }\n",
       "\n",
       "    .dataframe thead th {\n",
       "        text-align: right;\n",
       "    }\n",
       "</style>\n",
       "<table border=\"1\" class=\"dataframe\">\n",
       "  <thead>\n",
       "    <tr style=\"text-align: right;\">\n",
       "      <th></th>\n",
       "      <th>subject_id</th>\n",
       "      <th>active_hpo_features</th>\n",
       "    </tr>\n",
       "  </thead>\n",
       "  <tbody>\n",
       "    <tr>\n",
       "      <th>0</th>\n",
       "      <td>10006</td>\n",
       "      <td>HP:0012101;HP:0003259 HP:0001943;HP:0003074 HP...</td>\n",
       "    </tr>\n",
       "    <tr>\n",
       "      <th>1</th>\n",
       "      <td>10011</td>\n",
       "      <td>HP:0031964 HP:0003073;HP:0012117 HP:0003282;HP...</td>\n",
       "    </tr>\n",
       "    <tr>\n",
       "      <th>2</th>\n",
       "      <td>10013</td>\n",
       "      <td>HP:0031956 HP:0003113;HP:0011423 HP:0003236 HP...</td>\n",
       "    </tr>\n",
       "    <tr>\n",
       "      <th>3</th>\n",
       "      <td>10017</td>\n",
       "      <td>HP:0011905;HP:0040217 HP:0001943;HP:0003074 HP...</td>\n",
       "    </tr>\n",
       "    <tr>\n",
       "      <th>4</th>\n",
       "      <td>10019</td>\n",
       "      <td>HP:0031964 HP:0003073;HP:0012117 HP:0003282;HP...</td>\n",
       "    </tr>\n",
       "    <tr>\n",
       "      <th>...</th>\n",
       "      <td>...</td>\n",
       "      <td>...</td>\n",
       "    </tr>\n",
       "    <tr>\n",
       "      <th>95</th>\n",
       "      <td>44083</td>\n",
       "      <td>HP:0031851;HP:0001899 HP:0020062;HP:0020063 HP...</td>\n",
       "    </tr>\n",
       "    <tr>\n",
       "      <th>96</th>\n",
       "      <td>44154</td>\n",
       "      <td>H;P;:;0;4;1;0;1;7;2 H;P;:;0;5;0;0;1;1;6 HP:000...</td>\n",
       "    </tr>\n",
       "    <tr>\n",
       "      <th>97</th>\n",
       "      <td>44212</td>\n",
       "      <td>HP:0003073;HP:0012117 HP:0031956 HP:0032066;HP...</td>\n",
       "    </tr>\n",
       "    <tr>\n",
       "      <th>98</th>\n",
       "      <td>44222</td>\n",
       "      <td>HP:0012101;HP:0003259 HP:0001943;HP:0003074 HP...</td>\n",
       "    </tr>\n",
       "    <tr>\n",
       "      <th>99</th>\n",
       "      <td>44228</td>\n",
       "      <td>HP:0031964 HP:0003282;HP:0003155 HP:0031956 HP...</td>\n",
       "    </tr>\n",
       "  </tbody>\n",
       "</table>\n",
       "<p>100 rows × 2 columns</p>\n",
       "</div>"
      ],
      "text/plain": [
       "    subject_id                                active_hpo_features\n",
       "0        10006  HP:0012101;HP:0003259 HP:0001943;HP:0003074 HP...\n",
       "1        10011  HP:0031964 HP:0003073;HP:0012117 HP:0003282;HP...\n",
       "2        10013  HP:0031956 HP:0003113;HP:0011423 HP:0003236 HP...\n",
       "3        10017  HP:0011905;HP:0040217 HP:0001943;HP:0003074 HP...\n",
       "4        10019  HP:0031964 HP:0003073;HP:0012117 HP:0003282;HP...\n",
       "..         ...                                                ...\n",
       "95       44083  HP:0031851;HP:0001899 HP:0020062;HP:0020063 HP...\n",
       "96       44154  H;P;:;0;4;1;0;1;7;2 H;P;:;0;5;0;0;1;1;6 HP:000...\n",
       "97       44212  HP:0003073;HP:0012117 HP:0031956 HP:0032066;HP...\n",
       "98       44222  HP:0012101;HP:0003259 HP:0001943;HP:0003074 HP...\n",
       "99       44228  HP:0031964 HP:0003282;HP:0003155 HP:0031956 HP...\n",
       "\n",
       "[100 rows x 2 columns]"
      ]
     },
     "execution_count": 13,
     "metadata": {},
     "output_type": "execute_result"
    }
   ],
   "source": [
    "lab_events_df"
   ]
  },
  {
   "cell_type": "markdown",
   "id": "63bd74d5-7436-4a3b-8aa0-1195846dae5d",
   "metadata": {},
   "source": [
    "# Diagnose dataframe"
   ]
  },
  {
   "cell_type": "code",
   "execution_count": 14,
   "id": "d358a97c-1fa5-42c1-89eb-b4096a27452e",
   "metadata": {},
   "outputs": [],
   "source": [
    "diagnose_df = pd.read_csv('data/DIAGNOSE_ICD_hpo.csv')"
   ]
  },
  {
   "cell_type": "code",
   "execution_count": 15,
   "id": "c4fe8b0a-0c0d-4e11-af2c-5583eb862c77",
   "metadata": {},
   "outputs": [
    {
     "data": {
      "text/html": [
       "<div>\n",
       "<style scoped>\n",
       "    .dataframe tbody tr th:only-of-type {\n",
       "        vertical-align: middle;\n",
       "    }\n",
       "\n",
       "    .dataframe tbody tr th {\n",
       "        vertical-align: top;\n",
       "    }\n",
       "\n",
       "    .dataframe thead th {\n",
       "        text-align: right;\n",
       "    }\n",
       "</style>\n",
       "<table border=\"1\" class=\"dataframe\">\n",
       "  <thead>\n",
       "    <tr style=\"text-align: right;\">\n",
       "      <th></th>\n",
       "      <th>row_id</th>\n",
       "      <th>subject_id</th>\n",
       "      <th>hadm_id</th>\n",
       "      <th>seq_num</th>\n",
       "      <th>icd9_code</th>\n",
       "      <th>icd10_codes</th>\n",
       "      <th>hpo_features</th>\n",
       "    </tr>\n",
       "  </thead>\n",
       "  <tbody>\n",
       "    <tr>\n",
       "      <th>0</th>\n",
       "      <td>112344</td>\n",
       "      <td>10006</td>\n",
       "      <td>142345</td>\n",
       "      <td>1</td>\n",
       "      <td>99591</td>\n",
       "      <td>A419</td>\n",
       "      <td>HP:0100806</td>\n",
       "    </tr>\n",
       "    <tr>\n",
       "      <th>1</th>\n",
       "      <td>112345</td>\n",
       "      <td>10006</td>\n",
       "      <td>142345</td>\n",
       "      <td>2</td>\n",
       "      <td>99662</td>\n",
       "      <td>T827XXA</td>\n",
       "      <td>NaN</td>\n",
       "    </tr>\n",
       "    <tr>\n",
       "      <th>2</th>\n",
       "      <td>112346</td>\n",
       "      <td>10006</td>\n",
       "      <td>142345</td>\n",
       "      <td>3</td>\n",
       "      <td>5672</td>\n",
       "      <td>NaN</td>\n",
       "      <td>NaN</td>\n",
       "    </tr>\n",
       "    <tr>\n",
       "      <th>3</th>\n",
       "      <td>112347</td>\n",
       "      <td>10006</td>\n",
       "      <td>142345</td>\n",
       "      <td>4</td>\n",
       "      <td>40391</td>\n",
       "      <td>I120</td>\n",
       "      <td>HP:0004421;HP:0009741;HP:0004972;HP:0005117</td>\n",
       "    </tr>\n",
       "    <tr>\n",
       "      <th>4</th>\n",
       "      <td>112348</td>\n",
       "      <td>10006</td>\n",
       "      <td>142345</td>\n",
       "      <td>5</td>\n",
       "      <td>42731</td>\n",
       "      <td>I4891</td>\n",
       "      <td>NaN</td>\n",
       "    </tr>\n",
       "    <tr>\n",
       "      <th>...</th>\n",
       "      <td>...</td>\n",
       "      <td>...</td>\n",
       "      <td>...</td>\n",
       "      <td>...</td>\n",
       "      <td>...</td>\n",
       "      <td>...</td>\n",
       "      <td>...</td>\n",
       "    </tr>\n",
       "    <tr>\n",
       "      <th>1756</th>\n",
       "      <td>397673</td>\n",
       "      <td>44228</td>\n",
       "      <td>103379</td>\n",
       "      <td>7</td>\n",
       "      <td>1975</td>\n",
       "      <td>NaN</td>\n",
       "      <td>NaN</td>\n",
       "    </tr>\n",
       "    <tr>\n",
       "      <th>1757</th>\n",
       "      <td>397674</td>\n",
       "      <td>44228</td>\n",
       "      <td>103379</td>\n",
       "      <td>8</td>\n",
       "      <td>45182</td>\n",
       "      <td>I808</td>\n",
       "      <td>HP:0004418</td>\n",
       "    </tr>\n",
       "    <tr>\n",
       "      <th>1758</th>\n",
       "      <td>397675</td>\n",
       "      <td>44228</td>\n",
       "      <td>103379</td>\n",
       "      <td>9</td>\n",
       "      <td>99592</td>\n",
       "      <td>R6520</td>\n",
       "      <td>NaN</td>\n",
       "    </tr>\n",
       "    <tr>\n",
       "      <th>1759</th>\n",
       "      <td>397676</td>\n",
       "      <td>44228</td>\n",
       "      <td>103379</td>\n",
       "      <td>10</td>\n",
       "      <td>2449</td>\n",
       "      <td>NaN</td>\n",
       "      <td>NaN</td>\n",
       "    </tr>\n",
       "    <tr>\n",
       "      <th>1760</th>\n",
       "      <td>397677</td>\n",
       "      <td>44228</td>\n",
       "      <td>103379</td>\n",
       "      <td>11</td>\n",
       "      <td>2859</td>\n",
       "      <td>NaN</td>\n",
       "      <td>NaN</td>\n",
       "    </tr>\n",
       "  </tbody>\n",
       "</table>\n",
       "<p>1761 rows × 7 columns</p>\n",
       "</div>"
      ],
      "text/plain": [
       "      row_id  subject_id  hadm_id  seq_num icd9_code icd10_codes  \\\n",
       "0     112344       10006   142345        1     99591        A419   \n",
       "1     112345       10006   142345        2     99662     T827XXA   \n",
       "2     112346       10006   142345        3      5672         NaN   \n",
       "3     112347       10006   142345        4     40391        I120   \n",
       "4     112348       10006   142345        5     42731       I4891   \n",
       "...      ...         ...      ...      ...       ...         ...   \n",
       "1756  397673       44228   103379        7      1975         NaN   \n",
       "1757  397674       44228   103379        8     45182        I808   \n",
       "1758  397675       44228   103379        9     99592       R6520   \n",
       "1759  397676       44228   103379       10      2449         NaN   \n",
       "1760  397677       44228   103379       11      2859         NaN   \n",
       "\n",
       "                                     hpo_features  \n",
       "0                                      HP:0100806  \n",
       "1                                             NaN  \n",
       "2                                             NaN  \n",
       "3     HP:0004421;HP:0009741;HP:0004972;HP:0005117  \n",
       "4                                             NaN  \n",
       "...                                           ...  \n",
       "1756                                          NaN  \n",
       "1757                                   HP:0004418  \n",
       "1758                                          NaN  \n",
       "1759                                          NaN  \n",
       "1760                                          NaN  \n",
       "\n",
       "[1761 rows x 7 columns]"
      ]
     },
     "execution_count": 15,
     "metadata": {},
     "output_type": "execute_result"
    }
   ],
   "source": [
    "diagnose_df"
   ]
  },
  {
   "cell_type": "code",
   "execution_count": 16,
   "id": "4bf04536-76fa-4a91-bcb8-048dbc1c2696",
   "metadata": {},
   "outputs": [],
   "source": [
    "diagnose_df = diagnose_df.dropna(subset=['hpo_features'])"
   ]
  },
  {
   "cell_type": "code",
   "execution_count": 17,
   "id": "c00f1be4-f348-4521-90f7-2c6e0f34e506",
   "metadata": {},
   "outputs": [],
   "source": [
    "diagnose_df = diagnose_df[['subject_id','hpo_features']]"
   ]
  },
  {
   "cell_type": "code",
   "execution_count": 18,
   "id": "0de26e92-156b-494f-8d66-e39ae64d15cb",
   "metadata": {},
   "outputs": [],
   "source": [
    "diagnose_df = diagnose_df.groupby(['subject_id'])['hpo_features'].apply(' '.join).reset_index()"
   ]
  },
  {
   "cell_type": "code",
   "execution_count": 19,
   "id": "eb101ffc-58f3-48f8-a5e6-4b38de5230f8",
   "metadata": {},
   "outputs": [
    {
     "data": {
      "text/html": [
       "<div>\n",
       "<style scoped>\n",
       "    .dataframe tbody tr th:only-of-type {\n",
       "        vertical-align: middle;\n",
       "    }\n",
       "\n",
       "    .dataframe tbody tr th {\n",
       "        vertical-align: top;\n",
       "    }\n",
       "\n",
       "    .dataframe thead th {\n",
       "        text-align: right;\n",
       "    }\n",
       "</style>\n",
       "<table border=\"1\" class=\"dataframe\">\n",
       "  <thead>\n",
       "    <tr style=\"text-align: right;\">\n",
       "      <th></th>\n",
       "      <th>subject_id</th>\n",
       "      <th>hpo_features</th>\n",
       "    </tr>\n",
       "  </thead>\n",
       "  <tbody>\n",
       "    <tr>\n",
       "      <th>0</th>\n",
       "      <td>10006</td>\n",
       "      <td>HP:0100806 HP:0004421;HP:0009741;HP:0004972;HP...</td>\n",
       "    </tr>\n",
       "    <tr>\n",
       "      <th>1</th>\n",
       "      <td>10011</td>\n",
       "      <td>HP:0012115;HP:0200119 HP:0200123;HP:0012115</td>\n",
       "    </tr>\n",
       "    <tr>\n",
       "      <th>2</th>\n",
       "      <td>10013</td>\n",
       "      <td>HP:0100806 HP:0000819;HP:0001997;HP:0100749;HP...</td>\n",
       "    </tr>\n",
       "    <tr>\n",
       "      <th>3</th>\n",
       "      <td>10017</td>\n",
       "      <td>HP:0002097 HP:0002090 HP:0005978;HP:0000819;HP...</td>\n",
       "    </tr>\n",
       "    <tr>\n",
       "      <th>4</th>\n",
       "      <td>10019</td>\n",
       "      <td>HP:0100806 HP:0002878;HP:0012416;HP:0012416;HP...</td>\n",
       "    </tr>\n",
       "    <tr>\n",
       "      <th>...</th>\n",
       "      <td>...</td>\n",
       "      <td>...</td>\n",
       "    </tr>\n",
       "    <tr>\n",
       "      <th>92</th>\n",
       "      <td>44083</td>\n",
       "      <td>HP:0000822;HP:0004421;HP:0004972;HP:0005117 HP...</td>\n",
       "    </tr>\n",
       "    <tr>\n",
       "      <th>93</th>\n",
       "      <td>44154</td>\n",
       "      <td>HP:0100806</td>\n",
       "    </tr>\n",
       "    <tr>\n",
       "      <th>94</th>\n",
       "      <td>44212</td>\n",
       "      <td>HP:0002878;HP:0012416;HP:0012416;HP:0002878 HP...</td>\n",
       "    </tr>\n",
       "    <tr>\n",
       "      <th>95</th>\n",
       "      <td>44222</td>\n",
       "      <td>HP:0001657;HP:0001688;HP:0030682;HP:0001634;HP...</td>\n",
       "    </tr>\n",
       "    <tr>\n",
       "      <th>96</th>\n",
       "      <td>44228</td>\n",
       "      <td>HP:0002090 HP:0002664 HP:0004418</td>\n",
       "    </tr>\n",
       "  </tbody>\n",
       "</table>\n",
       "<p>97 rows × 2 columns</p>\n",
       "</div>"
      ],
      "text/plain": [
       "    subject_id                                       hpo_features\n",
       "0        10006  HP:0100806 HP:0004421;HP:0009741;HP:0004972;HP...\n",
       "1        10011        HP:0012115;HP:0200119 HP:0200123;HP:0012115\n",
       "2        10013  HP:0100806 HP:0000819;HP:0001997;HP:0100749;HP...\n",
       "3        10017  HP:0002097 HP:0002090 HP:0005978;HP:0000819;HP...\n",
       "4        10019  HP:0100806 HP:0002878;HP:0012416;HP:0012416;HP...\n",
       "..         ...                                                ...\n",
       "92       44083  HP:0000822;HP:0004421;HP:0004972;HP:0005117 HP...\n",
       "93       44154                                         HP:0100806\n",
       "94       44212  HP:0002878;HP:0012416;HP:0012416;HP:0002878 HP...\n",
       "95       44222  HP:0001657;HP:0001688;HP:0030682;HP:0001634;HP...\n",
       "96       44228                   HP:0002090 HP:0002664 HP:0004418\n",
       "\n",
       "[97 rows x 2 columns]"
      ]
     },
     "execution_count": 19,
     "metadata": {},
     "output_type": "execute_result"
    }
   ],
   "source": [
    "diagnose_df"
   ]
  },
  {
   "cell_type": "code",
   "execution_count": 20,
   "id": "06fb263c-b991-4802-b636-13a4ed3d39fa",
   "metadata": {},
   "outputs": [],
   "source": [
    "df = pd.merge(lab_events_df, diagnose_df, on=\"subject_id\")"
   ]
  },
  {
   "cell_type": "code",
   "execution_count": 21,
   "id": "1268e9ea-b884-43e6-8073-4895725b05c3",
   "metadata": {},
   "outputs": [
    {
     "data": {
      "text/html": [
       "<div>\n",
       "<style scoped>\n",
       "    .dataframe tbody tr th:only-of-type {\n",
       "        vertical-align: middle;\n",
       "    }\n",
       "\n",
       "    .dataframe tbody tr th {\n",
       "        vertical-align: top;\n",
       "    }\n",
       "\n",
       "    .dataframe thead th {\n",
       "        text-align: right;\n",
       "    }\n",
       "</style>\n",
       "<table border=\"1\" class=\"dataframe\">\n",
       "  <thead>\n",
       "    <tr style=\"text-align: right;\">\n",
       "      <th></th>\n",
       "      <th>subject_id</th>\n",
       "      <th>active_hpo_features</th>\n",
       "      <th>hpo_features</th>\n",
       "    </tr>\n",
       "  </thead>\n",
       "  <tbody>\n",
       "    <tr>\n",
       "      <th>0</th>\n",
       "      <td>10006</td>\n",
       "      <td>HP:0012101;HP:0003259 HP:0001943;HP:0003074 HP...</td>\n",
       "      <td>HP:0100806 HP:0004421;HP:0009741;HP:0004972;HP...</td>\n",
       "    </tr>\n",
       "    <tr>\n",
       "      <th>1</th>\n",
       "      <td>10011</td>\n",
       "      <td>HP:0031964 HP:0003073;HP:0012117 HP:0003282;HP...</td>\n",
       "      <td>HP:0012115;HP:0200119 HP:0200123;HP:0012115</td>\n",
       "    </tr>\n",
       "    <tr>\n",
       "      <th>2</th>\n",
       "      <td>10013</td>\n",
       "      <td>HP:0031956 HP:0003113;HP:0011423 HP:0003236 HP...</td>\n",
       "      <td>HP:0100806 HP:0000819;HP:0001997;HP:0100749;HP...</td>\n",
       "    </tr>\n",
       "    <tr>\n",
       "      <th>3</th>\n",
       "      <td>10017</td>\n",
       "      <td>HP:0011905;HP:0040217 HP:0001943;HP:0003074 HP...</td>\n",
       "      <td>HP:0002097 HP:0002090 HP:0005978;HP:0000819;HP...</td>\n",
       "    </tr>\n",
       "    <tr>\n",
       "      <th>4</th>\n",
       "      <td>10019</td>\n",
       "      <td>HP:0031964 HP:0003073;HP:0012117 HP:0003282;HP...</td>\n",
       "      <td>HP:0100806 HP:0002878;HP:0012416;HP:0012416;HP...</td>\n",
       "    </tr>\n",
       "    <tr>\n",
       "      <th>...</th>\n",
       "      <td>...</td>\n",
       "      <td>...</td>\n",
       "      <td>...</td>\n",
       "    </tr>\n",
       "    <tr>\n",
       "      <th>92</th>\n",
       "      <td>44083</td>\n",
       "      <td>HP:0031851;HP:0001899 HP:0020062;HP:0020063 HP...</td>\n",
       "      <td>HP:0000822;HP:0004421;HP:0004972;HP:0005117 HP...</td>\n",
       "    </tr>\n",
       "    <tr>\n",
       "      <th>93</th>\n",
       "      <td>44154</td>\n",
       "      <td>H;P;:;0;4;1;0;1;7;2 H;P;:;0;5;0;0;1;1;6 HP:000...</td>\n",
       "      <td>HP:0100806</td>\n",
       "    </tr>\n",
       "    <tr>\n",
       "      <th>94</th>\n",
       "      <td>44212</td>\n",
       "      <td>HP:0003073;HP:0012117 HP:0031956 HP:0032066;HP...</td>\n",
       "      <td>HP:0002878;HP:0012416;HP:0012416;HP:0002878 HP...</td>\n",
       "    </tr>\n",
       "    <tr>\n",
       "      <th>95</th>\n",
       "      <td>44222</td>\n",
       "      <td>HP:0012101;HP:0003259 HP:0001943;HP:0003074 HP...</td>\n",
       "      <td>HP:0001657;HP:0001688;HP:0030682;HP:0001634;HP...</td>\n",
       "    </tr>\n",
       "    <tr>\n",
       "      <th>96</th>\n",
       "      <td>44228</td>\n",
       "      <td>HP:0031964 HP:0003282;HP:0003155 HP:0031956 HP...</td>\n",
       "      <td>HP:0002090 HP:0002664 HP:0004418</td>\n",
       "    </tr>\n",
       "  </tbody>\n",
       "</table>\n",
       "<p>97 rows × 3 columns</p>\n",
       "</div>"
      ],
      "text/plain": [
       "    subject_id                                active_hpo_features  \\\n",
       "0        10006  HP:0012101;HP:0003259 HP:0001943;HP:0003074 HP...   \n",
       "1        10011  HP:0031964 HP:0003073;HP:0012117 HP:0003282;HP...   \n",
       "2        10013  HP:0031956 HP:0003113;HP:0011423 HP:0003236 HP...   \n",
       "3        10017  HP:0011905;HP:0040217 HP:0001943;HP:0003074 HP...   \n",
       "4        10019  HP:0031964 HP:0003073;HP:0012117 HP:0003282;HP...   \n",
       "..         ...                                                ...   \n",
       "92       44083  HP:0031851;HP:0001899 HP:0020062;HP:0020063 HP...   \n",
       "93       44154  H;P;:;0;4;1;0;1;7;2 H;P;:;0;5;0;0;1;1;6 HP:000...   \n",
       "94       44212  HP:0003073;HP:0012117 HP:0031956 HP:0032066;HP...   \n",
       "95       44222  HP:0012101;HP:0003259 HP:0001943;HP:0003074 HP...   \n",
       "96       44228  HP:0031964 HP:0003282;HP:0003155 HP:0031956 HP...   \n",
       "\n",
       "                                         hpo_features  \n",
       "0   HP:0100806 HP:0004421;HP:0009741;HP:0004972;HP...  \n",
       "1         HP:0012115;HP:0200119 HP:0200123;HP:0012115  \n",
       "2   HP:0100806 HP:0000819;HP:0001997;HP:0100749;HP...  \n",
       "3   HP:0002097 HP:0002090 HP:0005978;HP:0000819;HP...  \n",
       "4   HP:0100806 HP:0002878;HP:0012416;HP:0012416;HP...  \n",
       "..                                                ...  \n",
       "92  HP:0000822;HP:0004421;HP:0004972;HP:0005117 HP...  \n",
       "93                                         HP:0100806  \n",
       "94  HP:0002878;HP:0012416;HP:0012416;HP:0002878 HP...  \n",
       "95  HP:0001657;HP:0001688;HP:0030682;HP:0001634;HP...  \n",
       "96                   HP:0002090 HP:0002664 HP:0004418  \n",
       "\n",
       "[97 rows x 3 columns]"
      ]
     },
     "execution_count": 21,
     "metadata": {},
     "output_type": "execute_result"
    }
   ],
   "source": [
    "df"
   ]
  },
  {
   "cell_type": "code",
   "execution_count": 22,
   "id": "4214d10c-13aa-4294-9134-8750f67d3dbf",
   "metadata": {},
   "outputs": [
    {
     "data": {
      "text/plain": [
       "Int64Index([ 0,  1,  2,  3,  4,  5,  6,  7,  8,  9, 10, 11, 12, 13, 14, 15, 16,\n",
       "            17, 18, 19, 20, 21, 22, 23, 24, 25, 26, 27, 28, 29, 30, 31, 32, 33,\n",
       "            34, 35, 36, 37, 38, 39, 40, 41, 42, 43, 44, 45, 46, 47, 48, 49, 50,\n",
       "            51, 52, 53, 54, 55, 56, 57, 58, 59, 60, 61, 62, 63, 64, 65, 66, 67,\n",
       "            68, 69, 70, 71, 72, 73, 74, 75, 76, 77, 78, 79, 80, 81, 82, 83, 84,\n",
       "            85, 86, 87, 88, 89, 90, 91, 92, 93, 94, 95, 96],\n",
       "           dtype='int64')"
      ]
     },
     "execution_count": 22,
     "metadata": {},
     "output_type": "execute_result"
    }
   ],
   "source": [
    "df.index"
   ]
  },
  {
   "cell_type": "code",
   "execution_count": 23,
   "id": "e39abe36-d3ee-4057-bbb4-d8e10ddfc748",
   "metadata": {},
   "outputs": [],
   "source": [
    "input_test = set(df.loc[df['subject_id'] == 10006, 'active_hpo_features'])"
   ]
  },
  {
   "cell_type": "code",
   "execution_count": 24,
   "id": "3dae9a71-e71b-4efe-828e-c300c43423e5",
   "metadata": {},
   "outputs": [],
   "source": [
    "output_test = set(df.loc[df['hpo_features'] == 10006, 'active_hpo_features'])"
   ]
  },
  {
   "cell_type": "code",
   "execution_count": 25,
   "id": "974e0f45-d91c-429c-98af-65d0c2e5c450",
   "metadata": {},
   "outputs": [
    {
     "data": {
      "text/plain": [
       "set()"
      ]
     },
     "execution_count": 25,
     "metadata": {},
     "output_type": "execute_result"
    }
   ],
   "source": [
    "input_test.intersection(output_test)"
   ]
  },
  {
   "cell_type": "code",
   "execution_count": 26,
   "id": "e5ae852a-e5d1-4cf9-9764-1981f8766293",
   "metadata": {},
   "outputs": [
    {
     "data": {
      "text/plain": [
       "(100, 2)"
      ]
     },
     "execution_count": 26,
     "metadata": {},
     "output_type": "execute_result"
    }
   ],
   "source": [
    "lab_events_df.shape"
   ]
  },
  {
   "cell_type": "code",
   "execution_count": 27,
   "id": "e537fa61-1830-46a7-9ccf-d825ef83f7e9",
   "metadata": {},
   "outputs": [
    {
     "data": {
      "text/plain": [
       "(100,)"
      ]
     },
     "execution_count": 27,
     "metadata": {},
     "output_type": "execute_result"
    }
   ],
   "source": [
    "lab_events_df.subject_id.unique().shape"
   ]
  },
  {
   "cell_type": "markdown",
   "id": "aee6403c-88aa-43e0-bf05-f0f455cb7fd6",
   "metadata": {},
   "source": [
    "---"
   ]
  },
  {
   "cell_type": "code",
   "execution_count": 28,
   "id": "2b8dd3a1-3f8e-4823-b167-4c3796d89b24",
   "metadata": {},
   "outputs": [],
   "source": [
    "lab_events_df = pd.read_csv('data/LABEVENTS_HPO.csv')"
   ]
  },
  {
   "cell_type": "code",
   "execution_count": 29,
   "id": "a5fa6917-3384-4296-92ac-3b9864bf21fc",
   "metadata": {},
   "outputs": [
    {
     "data": {
      "text/html": [
       "<div>\n",
       "<style scoped>\n",
       "    .dataframe tbody tr th:only-of-type {\n",
       "        vertical-align: middle;\n",
       "    }\n",
       "\n",
       "    .dataframe tbody tr th {\n",
       "        vertical-align: top;\n",
       "    }\n",
       "\n",
       "    .dataframe thead th {\n",
       "        text-align: right;\n",
       "    }\n",
       "</style>\n",
       "<table border=\"1\" class=\"dataframe\">\n",
       "  <thead>\n",
       "    <tr style=\"text-align: right;\">\n",
       "      <th></th>\n",
       "      <th>row_id</th>\n",
       "      <th>subject_id</th>\n",
       "      <th>hadm_id</th>\n",
       "      <th>itemid</th>\n",
       "      <th>charttime</th>\n",
       "      <th>value</th>\n",
       "      <th>valuenum</th>\n",
       "      <th>valueuom</th>\n",
       "      <th>flag</th>\n",
       "      <th>possible_hpo_features</th>\n",
       "      <th>active_hpo_features</th>\n",
       "    </tr>\n",
       "  </thead>\n",
       "  <tbody>\n",
       "    <tr>\n",
       "      <th>0</th>\n",
       "      <td>6244563</td>\n",
       "      <td>10006</td>\n",
       "      <td>NaN</td>\n",
       "      <td>50868</td>\n",
       "      <td>2164-09-24 20:21:00</td>\n",
       "      <td>19</td>\n",
       "      <td>19.0</td>\n",
       "      <td>mEq/L</td>\n",
       "      <td>NaN</td>\n",
       "      <td>HP:0031963;HP:0031961;HP:0031962</td>\n",
       "      <td>NaN</td>\n",
       "    </tr>\n",
       "    <tr>\n",
       "      <th>1</th>\n",
       "      <td>6244564</td>\n",
       "      <td>10006</td>\n",
       "      <td>NaN</td>\n",
       "      <td>50882</td>\n",
       "      <td>2164-09-24 20:21:00</td>\n",
       "      <td>27</td>\n",
       "      <td>27.0</td>\n",
       "      <td>mEq/L</td>\n",
       "      <td>NaN</td>\n",
       "      <td>HP:0032066;HP:0032065;HP:0032067</td>\n",
       "      <td>NaN</td>\n",
       "    </tr>\n",
       "    <tr>\n",
       "      <th>2</th>\n",
       "      <td>6244565</td>\n",
       "      <td>10006</td>\n",
       "      <td>NaN</td>\n",
       "      <td>50893</td>\n",
       "      <td>2164-09-24 20:21:00</td>\n",
       "      <td>10.0</td>\n",
       "      <td>10.0</td>\n",
       "      <td>mg/dL</td>\n",
       "      <td>NaN</td>\n",
       "      <td>HP:0002901;HP:0004363;HP:0003072</td>\n",
       "      <td>NaN</td>\n",
       "    </tr>\n",
       "    <tr>\n",
       "      <th>3</th>\n",
       "      <td>6244566</td>\n",
       "      <td>10006</td>\n",
       "      <td>NaN</td>\n",
       "      <td>50902</td>\n",
       "      <td>2164-09-24 20:21:00</td>\n",
       "      <td>97</td>\n",
       "      <td>97.0</td>\n",
       "      <td>mEq/L</td>\n",
       "      <td>NaN</td>\n",
       "      <td>HP:0003113;HP:0011422;HP:0011423</td>\n",
       "      <td>NaN</td>\n",
       "    </tr>\n",
       "    <tr>\n",
       "      <th>4</th>\n",
       "      <td>6244567</td>\n",
       "      <td>10006</td>\n",
       "      <td>NaN</td>\n",
       "      <td>50912</td>\n",
       "      <td>2164-09-24 20:21:00</td>\n",
       "      <td>7.0</td>\n",
       "      <td>7.0</td>\n",
       "      <td>mg/dL</td>\n",
       "      <td>abnormal</td>\n",
       "      <td>HP:0012101;HP:0012100;HP:0003259</td>\n",
       "      <td>HP:0012101;HP:0003259</td>\n",
       "    </tr>\n",
       "  </tbody>\n",
       "</table>\n",
       "</div>"
      ],
      "text/plain": [
       "    row_id  subject_id  hadm_id  itemid            charttime value  valuenum  \\\n",
       "0  6244563       10006      NaN   50868  2164-09-24 20:21:00    19      19.0   \n",
       "1  6244564       10006      NaN   50882  2164-09-24 20:21:00    27      27.0   \n",
       "2  6244565       10006      NaN   50893  2164-09-24 20:21:00  10.0      10.0   \n",
       "3  6244566       10006      NaN   50902  2164-09-24 20:21:00    97      97.0   \n",
       "4  6244567       10006      NaN   50912  2164-09-24 20:21:00   7.0       7.0   \n",
       "\n",
       "  valueuom      flag             possible_hpo_features    active_hpo_features  \n",
       "0    mEq/L       NaN  HP:0031963;HP:0031961;HP:0031962                    NaN  \n",
       "1    mEq/L       NaN  HP:0032066;HP:0032065;HP:0032067                    NaN  \n",
       "2    mg/dL       NaN  HP:0002901;HP:0004363;HP:0003072                    NaN  \n",
       "3    mEq/L       NaN  HP:0003113;HP:0011422;HP:0011423                    NaN  \n",
       "4    mg/dL  abnormal  HP:0012101;HP:0012100;HP:0003259  HP:0012101;HP:0003259  "
      ]
     },
     "execution_count": 29,
     "metadata": {},
     "output_type": "execute_result"
    }
   ],
   "source": [
    "lab_events_df.head(5)"
   ]
  },
  {
   "cell_type": "code",
   "execution_count": 30,
   "id": "29e98e8b-bf2e-46a8-9c0d-8991b4040317",
   "metadata": {},
   "outputs": [],
   "source": [
    "lab_events_df = lab_events_df.dropna(subset=['active_hpo_features'])"
   ]
  },
  {
   "cell_type": "code",
   "execution_count": 31,
   "id": "9adae759-ddc8-4de7-ae6f-952a80760172",
   "metadata": {},
   "outputs": [],
   "source": [
    "lab_events_df = lab_events_df.groupby(['subject_id'])['active_hpo_features'].apply(';'.join).reset_index()"
   ]
  },
  {
   "cell_type": "code",
   "execution_count": 32,
   "id": "94e2764f-8bf6-4634-b411-12a560868b4d",
   "metadata": {},
   "outputs": [],
   "source": [
    "diagnose_sub_df = pd.read_csv('data/DIAGNOSE_ICD_hpo.csv')"
   ]
  },
  {
   "cell_type": "code",
   "execution_count": 33,
   "id": "21566981-4faf-4397-bef3-fcbc348e12df",
   "metadata": {},
   "outputs": [
    {
     "data": {
      "text/html": [
       "<div>\n",
       "<style scoped>\n",
       "    .dataframe tbody tr th:only-of-type {\n",
       "        vertical-align: middle;\n",
       "    }\n",
       "\n",
       "    .dataframe tbody tr th {\n",
       "        vertical-align: top;\n",
       "    }\n",
       "\n",
       "    .dataframe thead th {\n",
       "        text-align: right;\n",
       "    }\n",
       "</style>\n",
       "<table border=\"1\" class=\"dataframe\">\n",
       "  <thead>\n",
       "    <tr style=\"text-align: right;\">\n",
       "      <th></th>\n",
       "      <th>row_id</th>\n",
       "      <th>subject_id</th>\n",
       "      <th>hadm_id</th>\n",
       "      <th>seq_num</th>\n",
       "      <th>icd9_code</th>\n",
       "      <th>icd10_codes</th>\n",
       "      <th>hpo_features</th>\n",
       "    </tr>\n",
       "  </thead>\n",
       "  <tbody>\n",
       "    <tr>\n",
       "      <th>0</th>\n",
       "      <td>112344</td>\n",
       "      <td>10006</td>\n",
       "      <td>142345</td>\n",
       "      <td>1</td>\n",
       "      <td>99591</td>\n",
       "      <td>A419</td>\n",
       "      <td>HP:0100806</td>\n",
       "    </tr>\n",
       "    <tr>\n",
       "      <th>1</th>\n",
       "      <td>112345</td>\n",
       "      <td>10006</td>\n",
       "      <td>142345</td>\n",
       "      <td>2</td>\n",
       "      <td>99662</td>\n",
       "      <td>T827XXA</td>\n",
       "      <td>NaN</td>\n",
       "    </tr>\n",
       "  </tbody>\n",
       "</table>\n",
       "</div>"
      ],
      "text/plain": [
       "   row_id  subject_id  hadm_id  seq_num icd9_code icd10_codes hpo_features\n",
       "0  112344       10006   142345        1     99591        A419   HP:0100806\n",
       "1  112345       10006   142345        2     99662     T827XXA          NaN"
      ]
     },
     "execution_count": 33,
     "metadata": {},
     "output_type": "execute_result"
    }
   ],
   "source": [
    "diagnose_sub_df.head(2)"
   ]
  },
  {
   "cell_type": "code",
   "execution_count": 34,
   "id": "60e828c4-7a25-4d69-a648-8a6526549e91",
   "metadata": {},
   "outputs": [],
   "source": [
    "diagnose_sub_df = diagnose_sub_df[['subject_id','icd9_code', 'hpo_features']]"
   ]
  },
  {
   "cell_type": "code",
   "execution_count": 35,
   "id": "d51fedea-d64c-40cf-b1cc-32f7d7d0e5a8",
   "metadata": {},
   "outputs": [],
   "source": [
    "input_hpo_to_icd9 = lab_events_df.merge(diagnose_sub_df, how='left', on='subject_id') "
   ]
  },
  {
   "cell_type": "code",
   "execution_count": 36,
   "id": "e495123a-6c52-4eb4-9c9a-8cd3dcdee7ef",
   "metadata": {},
   "outputs": [],
   "source": [
    "hpo_example = input_hpo_to_icd9.iloc[5]"
   ]
  },
  {
   "cell_type": "code",
   "execution_count": 37,
   "id": "2f172bd2-c98b-4746-a6b1-1907550f7e44",
   "metadata": {},
   "outputs": [
    {
     "data": {
      "text/plain": [
       "subject_id                                                         10006\n",
       "active_hpo_features    HP:0012101;HP:0003259;HP:0001943;HP:0003074;HP...\n",
       "icd9_code                                                           4280\n",
       "hpo_features                                                  HP:0001635\n",
       "Name: 5, dtype: object"
      ]
     },
     "execution_count": 37,
     "metadata": {},
     "output_type": "execute_result"
    }
   ],
   "source": [
    "hpo_example"
   ]
  },
  {
   "cell_type": "code",
   "execution_count": null,
   "id": "690b2a20-8f9c-4ac6-bb5f-260cf4894127",
   "metadata": {},
   "outputs": [],
   "source": []
  },
  {
   "cell_type": "code",
   "execution_count": null,
   "id": "7422642d-d996-4935-bb4e-8bf25632ecda",
   "metadata": {},
   "outputs": [],
   "source": []
  },
  {
   "cell_type": "code",
   "execution_count": 38,
   "id": "53901a61-9754-4973-b01a-f8e42c66f5c8",
   "metadata": {},
   "outputs": [
    {
     "data": {
      "text/html": [
       "<div>\n",
       "<style scoped>\n",
       "    .dataframe tbody tr th:only-of-type {\n",
       "        vertical-align: middle;\n",
       "    }\n",
       "\n",
       "    .dataframe tbody tr th {\n",
       "        vertical-align: top;\n",
       "    }\n",
       "\n",
       "    .dataframe thead th {\n",
       "        text-align: right;\n",
       "    }\n",
       "</style>\n",
       "<table border=\"1\" class=\"dataframe\">\n",
       "  <thead>\n",
       "    <tr style=\"text-align: right;\">\n",
       "      <th></th>\n",
       "      <th>subject_id</th>\n",
       "      <th>active_hpo_features</th>\n",
       "    </tr>\n",
       "  </thead>\n",
       "  <tbody>\n",
       "    <tr>\n",
       "      <th>0</th>\n",
       "      <td>10006</td>\n",
       "      <td>HP:0012101</td>\n",
       "    </tr>\n",
       "    <tr>\n",
       "      <th>1</th>\n",
       "      <td>10006</td>\n",
       "      <td>HP:0003259</td>\n",
       "    </tr>\n",
       "    <tr>\n",
       "      <th>2</th>\n",
       "      <td>10006</td>\n",
       "      <td>HP:0001943</td>\n",
       "    </tr>\n",
       "    <tr>\n",
       "      <th>3</th>\n",
       "      <td>10006</td>\n",
       "      <td>HP:0003074</td>\n",
       "    </tr>\n",
       "    <tr>\n",
       "      <th>4</th>\n",
       "      <td>10006</td>\n",
       "      <td>HP:0002148</td>\n",
       "    </tr>\n",
       "    <tr>\n",
       "      <th>...</th>\n",
       "      <td>...</td>\n",
       "      <td>...</td>\n",
       "    </tr>\n",
       "    <tr>\n",
       "      <th>62468</th>\n",
       "      <td>44228</td>\n",
       "      <td>HP:0001894</td>\n",
       "    </tr>\n",
       "    <tr>\n",
       "      <th>62469</th>\n",
       "      <td>44228</td>\n",
       "      <td>HP:0020060</td>\n",
       "    </tr>\n",
       "    <tr>\n",
       "      <th>62470</th>\n",
       "      <td>44228</td>\n",
       "      <td>HP:0020059</td>\n",
       "    </tr>\n",
       "    <tr>\n",
       "      <th>62471</th>\n",
       "      <td>44228</td>\n",
       "      <td>HP:0001882</td>\n",
       "    </tr>\n",
       "    <tr>\n",
       "      <th>62472</th>\n",
       "      <td>44228</td>\n",
       "      <td>HP:0001974</td>\n",
       "    </tr>\n",
       "  </tbody>\n",
       "</table>\n",
       "<p>62473 rows × 2 columns</p>\n",
       "</div>"
      ],
      "text/plain": [
       "       subject_id active_hpo_features\n",
       "0           10006          HP:0012101\n",
       "1           10006          HP:0003259\n",
       "2           10006          HP:0001943\n",
       "3           10006          HP:0003074\n",
       "4           10006          HP:0002148\n",
       "...           ...                 ...\n",
       "62468       44228          HP:0001894\n",
       "62469       44228          HP:0020060\n",
       "62470       44228          HP:0020059\n",
       "62471       44228          HP:0001882\n",
       "62472       44228          HP:0001974\n",
       "\n",
       "[62473 rows x 2 columns]"
      ]
     },
     "execution_count": 38,
     "metadata": {},
     "output_type": "execute_result"
    }
   ],
   "source": [
    "lab_events_df.assign(active_hpo_features=lab_events_df.active_hpo_features.str.split(';')).explode('active_hpo_features').reset_index(drop=True)"
   ]
  },
  {
   "cell_type": "code",
   "execution_count": 52,
   "id": "b651dd78-964f-4085-a678-ecdfa75ec0c1",
   "metadata": {},
   "outputs": [],
   "source": [
    "diagnose_df_splitted = diagnose_df.assign(hpo_features=diagnose_df.hpo_features.str.split(';')).explode('hpo_features').reset_index(drop=True)"
   ]
  },
  {
   "cell_type": "code",
   "execution_count": 53,
   "id": "d3219947-a92d-4c7a-bc61-f38bdfec8e1e",
   "metadata": {},
   "outputs": [],
   "source": [
    "diagnose_df_splitted['hpo_features_len'] = diagnose_df_splitted['hpo_features'].apply(lambda x: len(x))"
   ]
  },
  {
   "cell_type": "code",
   "execution_count": 60,
   "id": "79996e66",
   "metadata": {},
   "outputs": [
    {
     "data": {
      "text/html": [
       "<div>\n",
       "<style scoped>\n",
       "    .dataframe tbody tr th:only-of-type {\n",
       "        vertical-align: middle;\n",
       "    }\n",
       "\n",
       "    .dataframe tbody tr th {\n",
       "        vertical-align: top;\n",
       "    }\n",
       "\n",
       "    .dataframe thead th {\n",
       "        text-align: right;\n",
       "    }\n",
       "</style>\n",
       "<table border=\"1\" class=\"dataframe\">\n",
       "  <thead>\n",
       "    <tr style=\"text-align: right;\">\n",
       "      <th></th>\n",
       "      <th>subject_id</th>\n",
       "      <th>hpo_features</th>\n",
       "      <th>hpo_features_len</th>\n",
       "    </tr>\n",
       "  </thead>\n",
       "  <tbody>\n",
       "    <tr>\n",
       "      <th>0</th>\n",
       "      <td>10006</td>\n",
       "      <td>HP:0100806 HP:0004421</td>\n",
       "      <td>21</td>\n",
       "    </tr>\n",
       "    <tr>\n",
       "      <th>1</th>\n",
       "      <td>10006</td>\n",
       "      <td>HP:0009741</td>\n",
       "      <td>10</td>\n",
       "    </tr>\n",
       "    <tr>\n",
       "      <th>2</th>\n",
       "      <td>10006</td>\n",
       "      <td>HP:0004972</td>\n",
       "      <td>10</td>\n",
       "    </tr>\n",
       "    <tr>\n",
       "      <th>3</th>\n",
       "      <td>10006</td>\n",
       "      <td>HP:0005117 HP:0001635 HP:0004963</td>\n",
       "      <td>32</td>\n",
       "    </tr>\n",
       "    <tr>\n",
       "      <th>4</th>\n",
       "      <td>10006</td>\n",
       "      <td>HP:0004942</td>\n",
       "      <td>10</td>\n",
       "    </tr>\n",
       "    <tr>\n",
       "      <th>...</th>\n",
       "      <td>...</td>\n",
       "      <td>...</td>\n",
       "      <td>...</td>\n",
       "    </tr>\n",
       "    <tr>\n",
       "      <th>2471</th>\n",
       "      <td>44222</td>\n",
       "      <td>HP:0031959</td>\n",
       "      <td>10</td>\n",
       "    </tr>\n",
       "    <tr>\n",
       "      <th>2472</th>\n",
       "      <td>44222</td>\n",
       "      <td>HP:0002548</td>\n",
       "      <td>10</td>\n",
       "    </tr>\n",
       "    <tr>\n",
       "      <th>2473</th>\n",
       "      <td>44222</td>\n",
       "      <td>HP:0000338</td>\n",
       "      <td>10</td>\n",
       "    </tr>\n",
       "    <tr>\n",
       "      <th>2474</th>\n",
       "      <td>44222</td>\n",
       "      <td>HP:0002322</td>\n",
       "      <td>10</td>\n",
       "    </tr>\n",
       "    <tr>\n",
       "      <th>2475</th>\n",
       "      <td>44228</td>\n",
       "      <td>HP:0002090 HP:0002664 HP:0004418</td>\n",
       "      <td>32</td>\n",
       "    </tr>\n",
       "  </tbody>\n",
       "</table>\n",
       "<p>2476 rows × 3 columns</p>\n",
       "</div>"
      ],
      "text/plain": [
       "      subject_id                      hpo_features  hpo_features_len\n",
       "0          10006             HP:0100806 HP:0004421                21\n",
       "1          10006                        HP:0009741                10\n",
       "2          10006                        HP:0004972                10\n",
       "3          10006  HP:0005117 HP:0001635 HP:0004963                32\n",
       "4          10006                        HP:0004942                10\n",
       "...          ...                               ...               ...\n",
       "2471       44222                        HP:0031959                10\n",
       "2472       44222                        HP:0002548                10\n",
       "2473       44222                        HP:0000338                10\n",
       "2474       44222                        HP:0002322                10\n",
       "2475       44228  HP:0002090 HP:0002664 HP:0004418                32\n",
       "\n",
       "[2476 rows x 3 columns]"
      ]
     },
     "execution_count": 60,
     "metadata": {},
     "output_type": "execute_result"
    }
   ],
   "source": [
    "diagnose_df_splitted"
   ]
  },
  {
   "cell_type": "code",
   "execution_count": 61,
   "id": "d0967706",
   "metadata": {},
   "outputs": [
    {
     "ename": "SyntaxError",
     "evalue": "invalid syntax (27424354.py, line 1)",
     "output_type": "error",
     "traceback": [
      "\u001b[1;36m  Input \u001b[1;32mIn [61]\u001b[1;36m\u001b[0m\n\u001b[1;33m    diagnose_df_splitted = diagnose_df_splitted[ diagnose_df_splitted['hpo_features_len'] = 10]\u001b[0m\n\u001b[1;37m                                                                                          ^\u001b[0m\n\u001b[1;31mSyntaxError\u001b[0m\u001b[1;31m:\u001b[0m invalid syntax\n"
     ]
    }
   ],
   "source": [
    "diagnose_df_splitted = diagnose_df_splitted[ diagnose_df_splitted['hpo_features_len'] = 10]"
   ]
  },
  {
   "cell_type": "code",
   "execution_count": 50,
   "id": "73ecd499",
   "metadata": {},
   "outputs": [
    {
     "data": {
      "text/html": [
       "<div>\n",
       "<style scoped>\n",
       "    .dataframe tbody tr th:only-of-type {\n",
       "        vertical-align: middle;\n",
       "    }\n",
       "\n",
       "    .dataframe tbody tr th {\n",
       "        vertical-align: top;\n",
       "    }\n",
       "\n",
       "    .dataframe thead th {\n",
       "        text-align: right;\n",
       "    }\n",
       "</style>\n",
       "<table border=\"1\" class=\"dataframe\">\n",
       "  <thead>\n",
       "    <tr style=\"text-align: right;\">\n",
       "      <th></th>\n",
       "      <th>subject_id</th>\n",
       "      <th>hpo_features</th>\n",
       "      <th>hpo_features_len</th>\n",
       "    </tr>\n",
       "  </thead>\n",
       "  <tbody>\n",
       "  </tbody>\n",
       "</table>\n",
       "</div>"
      ],
      "text/plain": [
       "Empty DataFrame\n",
       "Columns: [subject_id, hpo_features, hpo_features_len]\n",
       "Index: []"
      ]
     },
     "execution_count": 50,
     "metadata": {},
     "output_type": "execute_result"
    }
   ],
   "source": [
    "diagnose_df_splitted"
   ]
  },
  {
   "cell_type": "code",
   "execution_count": null,
   "id": "305524d8",
   "metadata": {},
   "outputs": [],
   "source": []
  }
 ],
 "metadata": {
  "interpreter": {
   "hash": "a79b1cf22b0b6e4466ac2a02098ddac413ae45bfd90f5690278d111c21050e98"
  },
  "kernelspec": {
   "display_name": "default:Python",
   "language": "python",
   "name": "python3"
  },
  "language_info": {
   "codemirror_mode": {
    "name": "ipython",
    "version": 3
   },
   "file_extension": ".py",
   "mimetype": "text/x-python",
   "name": "python",
   "nbconvert_exporter": "python",
   "pygments_lexer": "ipython3",
   "version": "3.8.13"
  }
 },
 "nbformat": 4,
 "nbformat_minor": 5
}

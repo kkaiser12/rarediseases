{
 "cells": [
  {
   "cell_type": "markdown",
   "metadata": {},
   "source": [
    "# Loading and Preprocessing Embeddings"
   ]
  },
  {
   "cell_type": "code",
   "execution_count": 1,
   "metadata": {},
   "outputs": [],
   "source": [
    "from owl2vec_star import owl2vec_star\n",
    "# from gensim.models import KeyedVectors\n",
    "import pandas as pd\n",
    "import numpy as np\n"
   ]
  },
  {
   "cell_type": "code",
   "execution_count": 2,
   "metadata": {},
   "outputs": [
    {
     "name": "stderr",
     "output_type": "stream",
     "text": [
      "* Owlready2 * Warning: optimized Cython parser module 'owlready2_optimized' is not available, defaulting to slower Python implementation\n"
     ]
    }
   ],
   "source": [
    "import gensim\n",
    "from owlready2 import *\n",
    "\n",
    "model = gensim.models.Word2Vec.load(r\"C:\\Users\\Lautaro\\Documents\\TUMAI\\rare_diseases\\data\\cache\\outputontology.embeddings\")\n"
   ]
  },
  {
   "cell_type": "code",
   "execution_count": 3,
   "metadata": {},
   "outputs": [],
   "source": [
    "onto = get_ontology(r\"C:\\Users\\Lautaro\\Documents\\TUMAI\\rare_diseases\\data\\hp.owl\").load()"
   ]
  },
  {
   "cell_type": "code",
   "execution_count": 4,
   "metadata": {},
   "outputs": [],
   "source": [
    "object_properties = []\n",
    "\n",
    "for index, i in enumerate(onto.object_properties()):\n",
    "    object_properties.append(i)\n",
    "    if index>3:\n",
    "       break"
   ]
  },
  {
   "cell_type": "code",
   "execution_count": 5,
   "metadata": {},
   "outputs": [
    {
     "data": {
      "text/plain": [
       "[obo.BFO_0000050,\n",
       " obo.RO_0002131,\n",
       " obo.BFO_0000051,\n",
       " obo.BFO_0000056,\n",
       " obo.BFO_0000062]"
      ]
     },
     "execution_count": 5,
     "metadata": {},
     "output_type": "execute_result"
    }
   ],
   "source": [
    "object_properties"
   ]
  },
  {
   "cell_type": "code",
   "execution_count": 6,
   "metadata": {},
   "outputs": [
    {
     "ename": "Error",
     "evalue": "Canceled future for execute_request message before replies were done",
     "output_type": "error",
     "traceback": [
      "Error: Canceled future for execute_request message before replies were done",
      "at t.KernelShellFutureHandler.dispose (c:\\Users\\Lautaro\\.vscode\\extensions\\ms-toolsai.jupyter-2022.3.1000901801\\out\\extension.js:2:1204175)",
      "at c:\\Users\\Lautaro\\.vscode\\extensions\\ms-toolsai.jupyter-2022.3.1000901801\\out\\extension.js:2:1223227",
      "at Map.forEach (<anonymous>)",
      "at v._clearKernelState (c:\\Users\\Lautaro\\.vscode\\extensions\\ms-toolsai.jupyter-2022.3.1000901801\\out\\extension.js:2:1223212)",
      "at v.dispose (c:\\Users\\Lautaro\\.vscode\\extensions\\ms-toolsai.jupyter-2022.3.1000901801\\out\\extension.js:2:1216694)",
      "at c:\\Users\\Lautaro\\.vscode\\extensions\\ms-toolsai.jupyter-2022.3.1000901801\\out\\extension.js:2:533674",
      "at t.swallowExceptions (c:\\Users\\Lautaro\\.vscode\\extensions\\ms-toolsai.jupyter-2022.3.1000901801\\out\\extension.js:2:913059)",
      "at dispose (c:\\Users\\Lautaro\\.vscode\\extensions\\ms-toolsai.jupyter-2022.3.1000901801\\out\\extension.js:2:533652)",
      "at t.RawSession.dispose (c:\\Users\\Lautaro\\.vscode\\extensions\\ms-toolsai.jupyter-2022.3.1000901801\\out\\extension.js:2:537330)",
      "at runMicrotasks (<anonymous>)",
      "at processTicksAndRejections (node:internal/process/task_queues:96:5)"
     ]
    }
   ],
   "source": [
    "classes = []\n",
    "\n",
    "for index, i in enumerate(onto.classes()):\n",
    "    classes.append(i)\n",
    "    if index>8:\n",
    "       break"
   ]
  },
  {
   "cell_type": "code",
   "execution_count": 41,
   "metadata": {},
   "outputs": [
    {
     "data": {
      "text/plain": [
       "[owl.Nothing,\n",
       " obo.HP_0000001,\n",
       " obo.BFO_0000002,\n",
       " obo.BFO_0000003,\n",
       " obo.BFO_0000004,\n",
       " obo.BFO_0000017,\n",
       " obo.BFO_0000019,\n",
       " obo.BFO_0000020,\n",
       " obo.BFO_0000034]"
      ]
     },
     "execution_count": 41,
     "metadata": {},
     "output_type": "execute_result"
    }
   ],
   "source": [
    "classes"
   ]
  },
  {
   "cell_type": "code",
   "execution_count": 27,
   "metadata": {},
   "outputs": [
    {
     "data": {
      "text/plain": [
       "owl.Nothing"
      ]
     },
     "execution_count": 27,
     "metadata": {},
     "output_type": "execute_result"
    }
   ],
   "source": [
    "next(onto.classes())"
   ]
  },
  {
   "cell_type": "code",
   "execution_count": 18,
   "metadata": {},
   "outputs": [
    {
     "data": {
      "text/plain": [
       "owlready2.entity.ThingClass"
      ]
     },
     "execution_count": 18,
     "metadata": {},
     "output_type": "execute_result"
    }
   ],
   "source": [
    "type(classes[1])"
   ]
  },
  {
   "cell_type": "code",
   "execution_count": 20,
   "metadata": {},
   "outputs": [],
   "source": [
    "c = classes[1]"
   ]
  },
  {
   "cell_type": "code",
   "execution_count": 22,
   "metadata": {},
   "outputs": [],
   "source": [
    "from nltk import word_tokenize\n",
    "\n",
    "label = c.label[0]\n",
    "text = ' '.join([re.sub(r'https?:\\/\\/.*[\\r\\n]*', '', w, flags=re.MULTILINE) for w in label.lower().split()])\n",
    "words = [token.lower() for token in word_tokenize(text) if token.isalpha()]\n",
    "n = 0\n",
    "word_v = np.zeros(model.vector_size)\n",
    "for word in words:\n",
    "    if word in model.wv:\n",
    "        word_v += model.wv.get_vector(word)\n",
    "        n += 1\n",
    "word_v = word_v / n if n > 0 else word_v"
   ]
  },
  {
   "cell_type": "code",
   "execution_count": 23,
   "metadata": {},
   "outputs": [
    {
     "data": {
      "text/plain": [
       "array([ 0.1144488 ,  0.04337228, -0.11162157,  0.4760741 , -0.14923286,\n",
       "        0.12007581,  0.1568312 , -0.403236  ,  0.05387936, -0.20574124,\n",
       "        0.3950097 , -0.57022893, -0.51219022,  0.50085181, -0.59801072,\n",
       "       -0.20913492, -0.66927058,  0.50032347,  0.67258555, -0.58297628,\n",
       "        0.6120587 ,  0.2322392 , -0.09633277, -0.41425738, -0.39380017,\n",
       "        1.01221526,  0.24906911,  0.62339717,  0.05390088,  0.41289899,\n",
       "       -0.13042621,  0.0839967 , -0.3019208 , -0.30734429, -0.73781461,\n",
       "        0.01323554,  0.09940179, -0.57037377, -0.50469589,  0.56996816,\n",
       "       -0.08349228,  0.61088753,  0.78679734,  0.42836139,  0.30950078,\n",
       "        0.56959814, -1.00379241,  0.91476798,  0.04688776,  0.07222342,\n",
       "       -0.43571988,  0.89653414,  0.48330399,  0.13913089, -0.45181125,\n",
       "        0.05419398, -0.08588213, -0.24185763, -0.8256132 , -0.02757136,\n",
       "       -0.7015081 ,  0.36365643,  0.11148228, -0.47148794,  1.01884413,\n",
       "        0.28660843, -0.44208911, -0.10305902,  0.36408299, -0.46811372,\n",
       "       -0.77502555, -0.55021411,  0.63015121, -0.21255274,  0.22938696,\n",
       "        0.84617269, -0.21979147,  0.2610811 ,  0.36400163,  0.89361733,\n",
       "       -0.22443466,  0.07917734, -0.27495012, -0.97376776, -0.24792784,\n",
       "       -0.41537926,  0.894108  ,  0.67215598,  0.29506099, -0.07779882,\n",
       "       -0.18902309, -0.39982337,  0.39913312, -0.25175092,  0.31627354,\n",
       "        1.16723847,  0.61191207,  0.29086202, -0.5347212 , -0.03733753])"
      ]
     },
     "execution_count": 23,
     "metadata": {},
     "output_type": "execute_result"
    }
   ],
   "source": [
    "word_v"
   ]
  },
  {
   "cell_type": "code",
   "execution_count": 24,
   "metadata": {},
   "outputs": [],
   "source": [
    "c.iri in wv\n",
    "iri_v = model.wv.get_vector(c.iri)"
   ]
  },
  {
   "cell_type": "code",
   "execution_count": 25,
   "metadata": {},
   "outputs": [
    {
     "data": {
      "text/plain": [
       "memmap([-0.2762956 , -0.15964052, -0.19487166,  0.01621167,  1.2544373 ,\n",
       "         0.4102396 ,  0.04028812, -0.35767874,  0.3678983 ,  0.08745068,\n",
       "         0.77762336,  0.16858636,  0.62251085,  0.703314  ,  0.2693921 ,\n",
       "        -0.38080302, -0.06282082,  0.6845174 ,  0.14604479,  0.49676532,\n",
       "         0.23954524,  0.6529624 , -0.29698184, -0.07813619, -0.33950275,\n",
       "         0.01088961,  0.06705821,  0.02346448,  0.38496178, -0.37659577,\n",
       "         0.06622157,  0.46134222, -0.8110832 , -0.08573855, -0.18606985,\n",
       "        -0.00736566,  0.06646618, -0.05192902, -0.16623272,  0.21212254,\n",
       "        -0.67134184,  0.5665158 ,  0.34132394,  0.5322571 , -0.9727665 ,\n",
       "         0.50781435, -0.94875365, -0.5808199 ,  0.34274572,  0.58679515,\n",
       "        -0.20116967,  0.40681207, -0.59944135,  0.15104266, -0.30581835,\n",
       "        -0.526123  ,  0.37090114, -0.77159417,  0.4783844 ,  0.26514032,\n",
       "         0.19305357,  0.03797351,  0.2977582 ,  0.3093731 , -0.2519534 ,\n",
       "        -0.5665112 ,  0.3719483 ,  0.15387547,  0.5493859 ,  0.1115234 ,\n",
       "         0.41443378, -0.93670505, -0.21716829, -0.21128514,  0.22055294,\n",
       "         0.06788605, -0.46137956, -0.5141529 , -0.37233603, -0.24446945,\n",
       "        -0.4099945 , -0.2361996 , -0.5140304 , -0.49991098,  0.00692583,\n",
       "         0.11669083,  0.16488352,  0.7431414 ,  0.32203823, -0.11428673,\n",
       "         0.46024626, -0.79452056,  0.5949569 , -0.01307075,  0.06597614,\n",
       "         0.97981703,  0.1262163 ,  0.8308801 ,  0.3626263 , -0.02065466],\n",
       "       dtype=float32)"
      ]
     },
     "execution_count": 25,
     "metadata": {},
     "output_type": "execute_result"
    }
   ],
   "source": [
    "iri_v"
   ]
  },
  {
   "cell_type": "code",
   "execution_count": 21,
   "metadata": {},
   "outputs": [],
   "source": [
    "# Embedding vectors generated above\n",
    "model = gensim.models.KeyedVectors.load(\n",
    "    r\"C:\\Users\\Lautaro\\Documents\\TUMAI\\rare_diseases\\data\\cache\\outputontology.embeddings\",\n",
    "    mmap=\"r\",\n",
    ")\n",
    "wv = model.wv\n"
   ]
  },
  {
   "cell_type": "code",
   "execution_count": 10,
   "metadata": {},
   "outputs": [
    {
     "data": {
      "text/plain": [
       "<gensim.models.keyedvectors.Word2VecKeyedVectors at 0x1943aa0da90>"
      ]
     },
     "execution_count": 10,
     "metadata": {},
     "output_type": "execute_result"
    }
   ],
   "source": [
    "wv\n"
   ]
  },
  {
   "cell_type": "code",
   "execution_count": 9,
   "metadata": {},
   "outputs": [
    {
     "name": "stdout",
     "output_type": "stream",
     "text": [
      "[ 0.5098921  -0.23432972 -0.4938471   0.30849817  0.84349483 -0.13891587\n",
      "  0.05551063  0.132816    0.06349483 -0.00534388 -0.33001605  0.03187589\n",
      " -0.18625315  0.37663913 -0.04901295 -0.01165972 -0.21994203 -0.11452126\n",
      "  0.38071305 -0.01989286  0.10116046  0.6033055  -0.17155142 -0.17159711\n",
      " -0.23395267  0.64384884  0.37413383 -0.03009368  0.12952618 -0.56874317\n",
      " -0.02450729 -0.18908425 -0.7611072  -0.30064592  0.05655113 -0.07322795\n",
      " -0.6249055  -0.19374868 -0.09298488  0.09305706 -0.16089508  0.15391922\n",
      "  0.14659187  0.38145867  0.032216    0.4716444  -0.52714366 -0.35038254\n",
      "  0.1943305   0.2991756  -0.14908616  0.11279631 -0.24016656 -0.63401693\n",
      "  0.12068636 -0.50801796  0.4261282  -0.3299459   0.34642035 -0.47858897\n",
      " -0.04633766  0.7455133  -0.3721883  -0.34393072 -0.07245614 -0.70287406\n",
      "  0.31631348  0.37524715  0.24086258  0.18604428 -0.07871442 -0.81244195\n",
      " -0.38744488  0.10910387  0.28229252  0.611663   -0.10812523  0.0757219\n",
      "  0.00429383  0.22146347 -0.2195343  -0.4750807  -0.22038762 -0.3649752\n",
      " -0.1330959   0.38447815  0.13198587  0.5805809   0.20533843  0.33087915\n",
      "  0.16022927 -0.48973078  0.40595347  0.02856415  0.22030295  0.1485842\n",
      "  0.10959716  0.3341315  -0.1097625   0.1815228 ]\n"
     ]
    }
   ],
   "source": [
    "vector = wv[\"http://purl.obolibrary.org/obo/HP_0000265\"]  # Get numpy vector of a word\n",
    "print(vector)\n"
   ]
  },
  {
   "cell_type": "code",
   "execution_count": 12,
   "metadata": {},
   "outputs": [
    {
     "name": "stdout",
     "output_type": "stream",
     "text": [
      "[('http://purl.obolibrary.org/obo/HP_0011509', 0.9723530411720276), ('http://purl.obolibrary.org/obo/HP_0000031', 0.964691698551178), ('http://purl.obolibrary.org/obo/HP_0500006', 0.9616008400917053), ('http://purl.obolibrary.org/obo/HP_0000024', 0.9604008793830872), ('http://purl.obolibrary.org/obo/HP_0040031', 0.9597347378730774), ('http://purl.obolibrary.org/obo/HP_0003763', 0.9565582871437073), ('http://purl.obolibrary.org/obo/HP_0100816', 0.9558507800102234), ('http://purl.obolibrary.org/obo/HP_0011960', 0.955418586730957), ('http://purl.obolibrary.org/obo/HP_0010724', 0.9551156163215637), ('http://purl.obolibrary.org/obo/HP_0005906', 0.9547369480133057)]\n"
     ]
    }
   ],
   "source": [
    "# Most similar entities: cosmul\n",
    "result = wv.most_similar_cosmul(positive=[\"http://purl.obolibrary.org/obo/HP_0000265\"])\n",
    "print(result)\n"
   ]
  },
  {
   "cell_type": "code",
   "execution_count": 14,
   "metadata": {},
   "outputs": [
    {
     "name": "stdout",
     "output_type": "stream",
     "text": [
      "[('A developmental dysplasia of the dental enamel.', 0.9831352233886719), ('Osteoarthritis of the distal interphalangeal joint', 0.9830306172370911), ('Pseudoepiphysis of the proximal phalanx of the 2nd toe', 0.9829877018928528), ('Absent pigmentation of the limbs', 0.9828448295593262), ('Interphalangeal joint erosions', 0.9826673865318298), ('Pleural plaque', 0.9826033115386963), ('The presence of developmental dysplasia of the optic nerve.', 0.9825000762939453), ('Increased circulating copper concentration', 0.9824551343917847), ('Elongated radius', 0.9824470281600952), ('A soft tissue prominence of the ventral aspects of the fingertips. The term \"persistent fetal fingertip pads\" is often used as a synonym, but should better not be used because it implies knowledge of history of the patient which often does not exist.', 0.9824117422103882)]\n"
     ]
    }
   ],
   "source": [
    "# Most similar cosine similarity\n",
    "result = wv.most_similar(positive=[\"Mastoiditis\"])\n",
    "print(result)\n"
   ]
  },
  {
   "cell_type": "code",
   "execution_count": 28,
   "metadata": {},
   "outputs": [
    {
     "name": "stdout",
     "output_type": "stream",
     "text": [
      "0.92885876\n"
     ]
    }
   ],
   "source": [
    "# cosine similarity\n",
    "similarity = wv.similarity(\n",
    "    \"http://purl.obolibrary.org/obo/HP_0011509\",\n",
    "    \"http://purl.obolibrary.org/obo/HP_0100816\",\n",
    ")\n",
    "print(similarity)\n"
   ]
  },
  {
   "cell_type": "code",
   "execution_count": null,
   "metadata": {},
   "outputs": [],
   "source": []
  },
  {
   "cell_type": "markdown",
   "metadata": {},
   "source": [
    "## Get a list of all HPOs"
   ]
  },
  {
   "cell_type": "code",
   "execution_count": 21,
   "metadata": {},
   "outputs": [],
   "source": [
    "import re\n"
   ]
  },
  {
   "cell_type": "code",
   "execution_count": 52,
   "metadata": {},
   "outputs": [],
   "source": [
    "test = \"http://purl.obolibrary.org/obo/HP_0000282\"\n",
    "test_result = re.search(r\"HP_\\d+\", test)\n"
   ]
  },
  {
   "cell_type": "code",
   "execution_count": 56,
   "metadata": {},
   "outputs": [
    {
     "data": {
      "text/plain": [
       "'HP:0000282'"
      ]
     },
     "execution_count": 56,
     "metadata": {},
     "output_type": "execute_result"
    }
   ],
   "source": [
    "re.sub(\"_\", \":\", test_result[0])\n"
   ]
  },
  {
   "cell_type": "code",
   "execution_count": 64,
   "metadata": {},
   "outputs": [],
   "source": [
    "annotations = []\n",
    "with open(r\"C:\\Users\\Lautaro\\Documents\\TUMAI\\rare_diseases\\data\\cache\\annotations.txt\") as ann:\n",
    "    for i, line in enumerate(ann):\n",
    "\n",
    "        terms = line.split(' preferred_label ')\n",
    "        hpo_number = re.search(r\"HP_\\d+\", terms[0])\n",
    "\n",
    "        if hpo_number:\n",
    "            record = re.sub('_', ':', hpo_number[0])\n",
    "            annotations.append(record)"
   ]
  },
  {
   "cell_type": "code",
   "execution_count": 66,
   "metadata": {},
   "outputs": [],
   "source": [
    "data = pd.DataFrame(annotations, columns=['HPO'])\n"
   ]
  },
  {
   "cell_type": "code",
   "execution_count": 68,
   "metadata": {},
   "outputs": [],
   "source": [
    "data.to_csv(\"HPO_list.csv\")"
   ]
  }
 ],
 "metadata": {
  "interpreter": {
   "hash": "2cc34c88dc7b26fe6eb97f4b77b30bccbb6944d0310d02e223250ed22a0c495a"
  },
  "kernelspec": {
   "display_name": "Python 3.8.3 ('.tumai': venv)",
   "language": "python",
   "name": "python3"
  },
  "language_info": {
   "codemirror_mode": {
    "name": "ipython",
    "version": 3
   },
   "file_extension": ".py",
   "mimetype": "text/x-python",
   "name": "python",
   "nbconvert_exporter": "python",
   "pygments_lexer": "ipython3",
   "version": "3.8.3"
  },
  "orig_nbformat": 4
 },
 "nbformat": 4,
 "nbformat_minor": 2
}

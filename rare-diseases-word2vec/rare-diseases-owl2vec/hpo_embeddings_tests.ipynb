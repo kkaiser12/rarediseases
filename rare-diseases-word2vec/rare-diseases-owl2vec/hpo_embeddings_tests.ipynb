{
 "cells": [
  {
   "cell_type": "markdown",
   "metadata": {},
   "source": [
    "# Test the Embedding Outputs"
   ]
  },
  {
   "cell_type": "code",
   "execution_count": 7,
   "metadata": {},
   "outputs": [],
   "source": [
    "import pandas as pd\n",
    "import numpy as np\n",
    "import gensim\n",
    "from owl2vec_star import owl2vec_star\n",
    "from nltk import word_tokenize\n",
    "from owlready2 import *"
   ]
  },
  {
   "cell_type": "markdown",
   "metadata": {},
   "source": [
    "### Get Classes and Object Properties from the Onthology (Using OWLReady2)"
   ]
  },
  {
   "cell_type": "code",
   "execution_count": 3,
   "metadata": {},
   "outputs": [],
   "source": [
    "model = gensim.models.Word2Vec.load(\"outputontology.embeddings\")"
   ]
  },
  {
   "cell_type": "code",
   "execution_count": 4,
   "metadata": {},
   "outputs": [],
   "source": [
    "onto = get_ontology(\"hp.owl\")\n",
    "onto = onto.load()"
   ]
  },
  {
   "cell_type": "code",
   "execution_count": 5,
   "metadata": {},
   "outputs": [
    {
     "data": {
      "text/plain": [
       "[obo.BFO_0000050,\n",
       " obo.RO_0002131,\n",
       " obo.BFO_0000051,\n",
       " obo.BFO_0000056,\n",
       " obo.BFO_0000062]"
      ]
     },
     "execution_count": 5,
     "metadata": {},
     "output_type": "execute_result"
    }
   ],
   "source": [
    "object_properties = []\n",
    "\n",
    "for index, i in enumerate(onto.object_properties()):\n",
    "    object_properties.append(i)\n",
    "    if index>3:\n",
    "       break\n",
    "\n",
    "object_properties"
   ]
  },
  {
   "cell_type": "code",
   "execution_count": 6,
   "metadata": {},
   "outputs": [],
   "source": [
    "classes = []\n",
    "\n",
    "for index, i in enumerate(onto.classes()):\n",
    "    classes.append(i)\n",
    "    if index>3:\n",
    "       break"
   ]
  },
  {
   "cell_type": "markdown",
   "metadata": {},
   "source": [
    "##### Explore one class"
   ]
  },
  {
   "cell_type": "code",
   "execution_count": 8,
   "metadata": {},
   "outputs": [],
   "source": [
    "c = classes[1]\n",
    "\n",
    "label = c.label[0]\n",
    "text = ' '.join([re.sub(r'https?:\\/\\/.*[\\r\\n]*', '', w, flags=re.MULTILINE) for w in label.lower().split()])\n",
    "words = [token.lower() for token in word_tokenize(text) if token.isalpha()]\n",
    "n = 0\n",
    "\n",
    "word_v = np.zeros(model.vector_size)\n",
    "for word in words:\n",
    "    if word in model.wv:\n",
    "        word_v += model.wv.get_vector(word)\n",
    "        n += 1\n",
    "\n",
    "word_v = word_v / n if n > 0 else word_v"
   ]
  },
  {
   "cell_type": "code",
   "execution_count": 10,
   "metadata": {},
   "outputs": [
    {
     "data": {
      "text/plain": [
       "(obo.HP_0000001,\n",
       " array([ 0.1144488 ,  0.04337228, -0.11162157,  0.4760741 , -0.14923286,\n",
       "         0.12007581,  0.1568312 , -0.403236  ,  0.05387936, -0.20574124,\n",
       "         0.3950097 , -0.57022893, -0.51219022,  0.50085181, -0.59801072,\n",
       "        -0.20913492, -0.66927058,  0.50032347,  0.67258555, -0.58297628,\n",
       "         0.6120587 ,  0.2322392 , -0.09633277, -0.41425738, -0.39380017,\n",
       "         1.01221526,  0.24906911,  0.62339717,  0.05390088,  0.41289899,\n",
       "        -0.13042621,  0.0839967 , -0.3019208 , -0.30734429, -0.73781461,\n",
       "         0.01323554,  0.09940179, -0.57037377, -0.50469589,  0.56996816,\n",
       "        -0.08349228,  0.61088753,  0.78679734,  0.42836139,  0.30950078,\n",
       "         0.56959814, -1.00379241,  0.91476798,  0.04688776,  0.07222342,\n",
       "        -0.43571988,  0.89653414,  0.48330399,  0.13913089, -0.45181125,\n",
       "         0.05419398, -0.08588213, -0.24185763, -0.8256132 , -0.02757136,\n",
       "        -0.7015081 ,  0.36365643,  0.11148228, -0.47148794,  1.01884413,\n",
       "         0.28660843, -0.44208911, -0.10305902,  0.36408299, -0.46811372,\n",
       "        -0.77502555, -0.55021411,  0.63015121, -0.21255274,  0.22938696,\n",
       "         0.84617269, -0.21979147,  0.2610811 ,  0.36400163,  0.89361733,\n",
       "        -0.22443466,  0.07917734, -0.27495012, -0.97376776, -0.24792784,\n",
       "        -0.41537926,  0.894108  ,  0.67215598,  0.29506099, -0.07779882,\n",
       "        -0.18902309, -0.39982337,  0.39913312, -0.25175092,  0.31627354,\n",
       "         1.16723847,  0.61191207,  0.29086202, -0.5347212 , -0.03733753]))"
      ]
     },
     "execution_count": 10,
     "metadata": {},
     "output_type": "execute_result"
    }
   ],
   "source": [
    "c, word_v"
   ]
  },
  {
   "cell_type": "code",
   "execution_count": 12,
   "metadata": {},
   "outputs": [],
   "source": [
    "# Get the IRI for the class\n",
    "wv = model.wv\n",
    "c.iri in wv\n",
    "iri_v = model.wv.get_vector(c.iri)"
   ]
  },
  {
   "cell_type": "code",
   "execution_count": 13,
   "metadata": {},
   "outputs": [
    {
     "data": {
      "text/plain": [
       "array([-0.2762956 , -0.15964052, -0.19487166,  0.01621167,  1.2544373 ,\n",
       "        0.4102396 ,  0.04028812, -0.35767874,  0.3678983 ,  0.08745068,\n",
       "        0.77762336,  0.16858636,  0.62251085,  0.703314  ,  0.2693921 ,\n",
       "       -0.38080302, -0.06282082,  0.6845174 ,  0.14604479,  0.49676532,\n",
       "        0.23954524,  0.6529624 , -0.29698184, -0.07813619, -0.33950275,\n",
       "        0.01088961,  0.06705821,  0.02346448,  0.38496178, -0.37659577,\n",
       "        0.06622157,  0.46134222, -0.8110832 , -0.08573855, -0.18606985,\n",
       "       -0.00736566,  0.06646618, -0.05192902, -0.16623272,  0.21212254,\n",
       "       -0.67134184,  0.5665158 ,  0.34132394,  0.5322571 , -0.9727665 ,\n",
       "        0.50781435, -0.94875365, -0.5808199 ,  0.34274572,  0.58679515,\n",
       "       -0.20116967,  0.40681207, -0.59944135,  0.15104266, -0.30581835,\n",
       "       -0.526123  ,  0.37090114, -0.77159417,  0.4783844 ,  0.26514032,\n",
       "        0.19305357,  0.03797351,  0.2977582 ,  0.3093731 , -0.2519534 ,\n",
       "       -0.5665112 ,  0.3719483 ,  0.15387547,  0.5493859 ,  0.1115234 ,\n",
       "        0.41443378, -0.93670505, -0.21716829, -0.21128514,  0.22055294,\n",
       "        0.06788605, -0.46137956, -0.5141529 , -0.37233603, -0.24446945,\n",
       "       -0.4099945 , -0.2361996 , -0.5140304 , -0.49991098,  0.00692583,\n",
       "        0.11669083,  0.16488352,  0.7431414 ,  0.32203823, -0.11428673,\n",
       "        0.46024626, -0.79452056,  0.5949569 , -0.01307075,  0.06597614,\n",
       "        0.97981703,  0.1262163 ,  0.8308801 ,  0.3626263 , -0.02065466],\n",
       "      dtype=float32)"
      ]
     },
     "execution_count": 13,
     "metadata": {},
     "output_type": "execute_result"
    }
   ],
   "source": [
    "iri_v"
   ]
  }
 ],
 "metadata": {
  "interpreter": {
   "hash": "2cc34c88dc7b26fe6eb97f4b77b30bccbb6944d0310d02e223250ed22a0c495a"
  },
  "kernelspec": {
   "display_name": "Python 3.8.3 ('.tumai': venv)",
   "language": "python",
   "name": "python3"
  },
  "language_info": {
   "codemirror_mode": {
    "name": "ipython",
    "version": 3
   },
   "file_extension": ".py",
   "mimetype": "text/x-python",
   "name": "python",
   "nbconvert_exporter": "python",
   "pygments_lexer": "ipython3",
   "version": "3.8.3"
  },
  "orig_nbformat": 4
 },
 "nbformat": 4,
 "nbformat_minor": 2
}

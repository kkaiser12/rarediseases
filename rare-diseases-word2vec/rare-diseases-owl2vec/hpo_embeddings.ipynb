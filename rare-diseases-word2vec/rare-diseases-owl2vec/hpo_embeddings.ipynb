{
 "cells": [
  {
   "cell_type": "markdown",
   "metadata": {},
   "source": [
    "# HPO Embeddings"
   ]
  },
  {
   "cell_type": "markdown",
   "metadata": {},
   "source": [
    "Get HPOs Embeddings using the OWL file for the Onthology and the Open Source OWL2Vec Model (https://github.com/KRR-Oxford/OWL2Vec-Star)"
   ]
  },
  {
   "cell_type": "code",
   "execution_count": null,
   "metadata": {},
   "outputs": [],
   "source": [
    "from owl2vec_star import owl2vec_star"
   ]
  },
  {
   "cell_type": "code",
   "execution_count": null,
   "metadata": {},
   "outputs": [],
   "source": [
    "gensim_model = owl2vec_star.extract_owl2vec_model(\"hpo.owl\", \"hpo.cfg\", True, True, True)\n",
    "\n",
    "output_folder=\"/output/\"\n",
    "\n",
    "#Gensim format\n",
    "gensim_model.save(output_folder+\"ontology.embeddings\")\n",
    "gensim_model.wv.save_word2vec_format(output_folder+\"ontology.embeddings.txt\", binary=False)"
   ]
  }
 ],
 "metadata": {
  "interpreter": {
   "hash": "2cc34c88dc7b26fe6eb97f4b77b30bccbb6944d0310d02e223250ed22a0c495a"
  },
  "kernelspec": {
   "display_name": "Python 3.8.3 ('.tumai': venv)",
   "language": "python",
   "name": "python3"
  },
  "language_info": {
   "codemirror_mode": {
    "name": "ipython",
    "version": 3
   },
   "file_extension": ".py",
   "mimetype": "text/x-python",
   "name": "python",
   "nbconvert_exporter": "python",
   "pygments_lexer": "ipython3",
   "version": "3.8.3"
  },
  "orig_nbformat": 4
 },
 "nbformat": 4,
 "nbformat_minor": 2
}

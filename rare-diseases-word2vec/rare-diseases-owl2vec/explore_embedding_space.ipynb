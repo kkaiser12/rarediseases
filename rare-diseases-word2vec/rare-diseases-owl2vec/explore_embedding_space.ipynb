{
 "cells": [
  {
   "cell_type": "markdown",
   "metadata": {},
   "source": [
    "# Explore the Embedding Space"
   ]
  },
  {
   "cell_type": "code",
   "execution_count": 1,
   "metadata": {},
   "outputs": [],
   "source": [
    "from gensim.models import KeyedVectors\n",
    "import pandas as pd\n",
    "import numpy as np"
   ]
  },
  {
   "cell_type": "code",
   "execution_count": 2,
   "metadata": {},
   "outputs": [],
   "source": [
    "# Embedding vectors generated above\n",
    "model = KeyedVectors.load(\n",
    "   \"outputontology.embeddings\",\n",
    "    mmap=\"r\",\n",
    ")\n",
    "\n",
    "wv = model.wv"
   ]
  },
  {
   "cell_type": "code",
   "execution_count": 3,
   "metadata": {},
   "outputs": [
    {
     "name": "stdout",
     "output_type": "stream",
     "text": [
      "[ 0.5098921  -0.23432972 -0.4938471   0.30849817  0.84349483 -0.13891587\n",
      "  0.05551063  0.132816    0.06349483 -0.00534388 -0.33001605  0.03187589\n",
      " -0.18625315  0.37663913 -0.04901295 -0.01165972 -0.21994203 -0.11452126\n",
      "  0.38071305 -0.01989286  0.10116046  0.6033055  -0.17155142 -0.17159711\n",
      " -0.23395267  0.64384884  0.37413383 -0.03009368  0.12952618 -0.56874317\n",
      " -0.02450729 -0.18908425 -0.7611072  -0.30064592  0.05655113 -0.07322795\n",
      " -0.6249055  -0.19374868 -0.09298488  0.09305706 -0.16089508  0.15391922\n",
      "  0.14659187  0.38145867  0.032216    0.4716444  -0.52714366 -0.35038254\n",
      "  0.1943305   0.2991756  -0.14908616  0.11279631 -0.24016656 -0.63401693\n",
      "  0.12068636 -0.50801796  0.4261282  -0.3299459   0.34642035 -0.47858897\n",
      " -0.04633766  0.7455133  -0.3721883  -0.34393072 -0.07245614 -0.70287406\n",
      "  0.31631348  0.37524715  0.24086258  0.18604428 -0.07871442 -0.81244195\n",
      " -0.38744488  0.10910387  0.28229252  0.611663   -0.10812523  0.0757219\n",
      "  0.00429383  0.22146347 -0.2195343  -0.4750807  -0.22038762 -0.3649752\n",
      " -0.1330959   0.38447815  0.13198587  0.5805809   0.20533843  0.33087915\n",
      "  0.16022927 -0.48973078  0.40595347  0.02856415  0.22030295  0.1485842\n",
      "  0.10959716  0.3341315  -0.1097625   0.1815228 ]\n"
     ]
    }
   ],
   "source": [
    "# Get the Numpy embedding of a given HPO\n",
    "\n",
    "vector = wv[\"http://purl.obolibrary.org/obo/HP_0000265\"]\n",
    "\n",
    "print(vector)\n"
   ]
  },
  {
   "cell_type": "markdown",
   "metadata": {},
   "source": [
    "## Similarity Measures"
   ]
  },
  {
   "cell_type": "code",
   "execution_count": 4,
   "metadata": {},
   "outputs": [
    {
     "name": "stdout",
     "output_type": "stream",
     "text": [
      "[('http://purl.obolibrary.org/obo/HP_0011509', 0.9723530411720276), ('http://purl.obolibrary.org/obo/HP_0000031', 0.964691698551178), ('http://purl.obolibrary.org/obo/HP_0500006', 0.9616008400917053), ('http://purl.obolibrary.org/obo/HP_0000024', 0.9604008793830872), ('http://purl.obolibrary.org/obo/HP_0040031', 0.9597347378730774), ('http://purl.obolibrary.org/obo/HP_0003763', 0.9565582871437073), ('http://purl.obolibrary.org/obo/HP_0100816', 0.9558507800102234), ('http://purl.obolibrary.org/obo/HP_0011960', 0.955418586730957), ('http://purl.obolibrary.org/obo/HP_0010724', 0.9551156163215637), ('http://purl.obolibrary.org/obo/HP_0005906', 0.9547369480133057)]\n"
     ]
    }
   ],
   "source": [
    "# Most similar entities: cosmul\n",
    "result = wv.most_similar_cosmul(positive=[\"http://purl.obolibrary.org/obo/HP_0000265\"])\n",
    "\n",
    "print(result)\n"
   ]
  },
  {
   "cell_type": "markdown",
   "metadata": {},
   "source": [
    "This results aren't accurate, the HPOs are not really related from a medical point of view"
   ]
  },
  {
   "cell_type": "code",
   "execution_count": 5,
   "metadata": {},
   "outputs": [
    {
     "name": "stdout",
     "output_type": "stream",
     "text": [
      "[('A developmental dysplasia of the dental enamel.', 0.9831352233886719), ('Osteoarthritis of the distal interphalangeal joint', 0.9830306172370911), ('Pseudoepiphysis of the proximal phalanx of the 2nd toe', 0.9829877018928528), ('Absent pigmentation of the limbs', 0.9828448295593262), ('Interphalangeal joint erosions', 0.9826673865318298), ('Pleural plaque', 0.9826033115386963), ('The presence of developmental dysplasia of the optic nerve.', 0.9825000762939453), ('Increased circulating copper concentration', 0.9824551343917847), ('Elongated radius', 0.9824470281600952), ('A soft tissue prominence of the ventral aspects of the fingertips. The term \"persistent fetal fingertip pads\" is often used as a synonym, but should better not be used because it implies knowledge of history of the patient which often does not exist.', 0.9824117422103882)]\n"
     ]
    }
   ],
   "source": [
    "# Most similar cosine similarity\n",
    "result = wv.most_similar(positive=[\"Mastoiditis\"])\n",
    "\n",
    "print(result)"
   ]
  },
  {
   "cell_type": "code",
   "execution_count": 6,
   "metadata": {},
   "outputs": [
    {
     "name": "stdout",
     "output_type": "stream",
     "text": [
      "0.92885876\n"
     ]
    }
   ],
   "source": [
    "# Compare to HPOs using cosine similarity\n",
    "similarity = wv.similarity(\n",
    "    \"http://purl.obolibrary.org/obo/HP_0011509\",\n",
    "    \"http://purl.obolibrary.org/obo/HP_0100816\",\n",
    ")\n",
    "print(similarity)\n"
   ]
  },
  {
   "cell_type": "markdown",
   "metadata": {},
   "source": [
    "This shouldn't have such a high similarity score --> the model is not generating embeddings correctly"
   ]
  }
 ],
 "metadata": {
  "interpreter": {
   "hash": "2cc34c88dc7b26fe6eb97f4b77b30bccbb6944d0310d02e223250ed22a0c495a"
  },
  "kernelspec": {
   "display_name": "Python 3.8.3 ('.tumai': venv)",
   "language": "python",
   "name": "python3"
  },
  "language_info": {
   "codemirror_mode": {
    "name": "ipython",
    "version": 3
   },
   "file_extension": ".py",
   "mimetype": "text/x-python",
   "name": "python",
   "nbconvert_exporter": "python",
   "pygments_lexer": "ipython3",
   "version": "3.8.3"
  },
  "orig_nbformat": 4
 },
 "nbformat": 4,
 "nbformat_minor": 2
}
